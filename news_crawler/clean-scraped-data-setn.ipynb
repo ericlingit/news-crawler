{
 "cells": [
  {
   "cell_type": "code",
   "execution_count": 30,
   "metadata": {
    "ExecuteTime": {
     "end_time": "2020-02-07T09:18:09.036912Z",
     "start_time": "2020-02-07T09:18:08.719690Z"
    }
   },
   "outputs": [],
   "source": [
    "import pandas as pd\n",
    "from pathlib import Path"
   ]
  },
  {
   "cell_type": "code",
   "execution_count": 31,
   "metadata": {},
   "outputs": [],
   "source": [
    "data = Path('./spiders/output/four_categories/setn')"
   ]
  },
  {
   "cell_type": "code",
   "execution_count": 32,
   "metadata": {
    "ExecuteTime": {
     "end_time": "2020-02-07T09:18:39.247522Z",
     "start_time": "2020-02-07T09:18:39.243881Z"
    },
    "scrolled": true
   },
   "outputs": [],
   "source": [
    "raw = pd.read_json(data/'setn_raw.json')"
   ]
  },
  {
   "cell_type": "code",
   "execution_count": 7,
   "metadata": {
    "ExecuteTime": {
     "end_time": "2020-02-07T09:19:03.748288Z",
     "start_time": "2020-02-07T09:19:03.736682Z"
    },
    "scrolled": true
   },
   "outputs": [
    {
     "data": {
      "text/html": [
       "<div>\n",
       "<style scoped>\n",
       "    .dataframe tbody tr th:only-of-type {\n",
       "        vertical-align: middle;\n",
       "    }\n",
       "\n",
       "    .dataframe tbody tr th {\n",
       "        vertical-align: top;\n",
       "    }\n",
       "\n",
       "    .dataframe thead th {\n",
       "        text-align: right;\n",
       "    }\n",
       "</style>\n",
       "<table border=\"1\" class=\"dataframe\">\n",
       "  <thead>\n",
       "    <tr style=\"text-align: right;\">\n",
       "      <th></th>\n",
       "      <th>category</th>\n",
       "      <th>date</th>\n",
       "      <th>text</th>\n",
       "      <th>title</th>\n",
       "      <th>url</th>\n",
       "    </tr>\n",
       "  </thead>\n",
       "  <tbody>\n",
       "    <tr>\n",
       "      <th>0</th>\n",
       "      <td>entertainment</td>\n",
       "      <td>&lt;div class=\"time\"&gt;2020/02/13 16:36:00&lt;/div&gt;</td>\n",
       "      <td>&lt;p&gt;記者邱于倫／綜合報導&lt;/p&gt;&lt;p&gt;迪士尼真人版電影《阿拉丁》在去年上映後，票房立刻衝破...</td>\n",
       "      <td>&lt;h1 id=\"newsTitle\"&gt;《阿拉丁》票房破300億　續集將開拍…原班人馬動向曝光...</td>\n",
       "      <td>https://www.setn.com/e/News.aspx?NewsID=688969</td>\n",
       "    </tr>\n",
       "    <tr>\n",
       "      <th>1</th>\n",
       "      <td>finance</td>\n",
       "      <td>&lt;time class=\"page-date\"&gt;2020/02/11 10:19:00&lt;/t...</td>\n",
       "      <td>&lt;p&gt;受惠於被動元件與半導體類股領漲，台股今（11）日早盤一度漲逾80點，其中，國巨一度領漲...</td>\n",
       "      <td>&lt;h1 class=\"news-title-3\"&gt;《台股盤中》美股漲勢激勵科技股走高　台股早...</td>\n",
       "      <td>https://www.setn.com/News.aspx?NewsID=687318</td>\n",
       "    </tr>\n",
       "    <tr>\n",
       "      <th>2</th>\n",
       "      <td>sport</td>\n",
       "      <td>&lt;time class=\"page-date\"&gt;2020/02/10 20:52:00&lt;/t...</td>\n",
       "      <td>&lt;p&gt;體育中心／綜合報導&lt;/p&gt;&lt;p&gt;日本職棒讀賣巨人台灣選手陽岱鋼在春訓熱身賽表現不理想，...</td>\n",
       "      <td>&lt;h1 class=\"news-title-3\"&gt;紅白賽表現不佳　日媒曝陽岱鋼賽後苦練傳悲鳴...</td>\n",
       "      <td>https://www.setn.com/News.aspx?NewsID=687117</td>\n",
       "    </tr>\n",
       "    <tr>\n",
       "      <th>3</th>\n",
       "      <td>entertainment</td>\n",
       "      <td>&lt;div class=\"time\"&gt;2020/02/14 20:54:00&lt;/div&gt;</td>\n",
       "      <td>&lt;p&gt;記者林呈育／綜合報導&lt;/p&gt;&lt;p&gt;粉絲見到偶像時，很容易變得情緒激動，如果一不小心沒有...</td>\n",
       "      <td>&lt;h1 id=\"newsTitle\"&gt;開唱到一半…男星遭粉「拉下舞台」！嚇人畫面曝光網超怒&lt;...</td>\n",
       "      <td>https://www.setn.com/e/News.aspx?NewsID=689821</td>\n",
       "    </tr>\n",
       "    <tr>\n",
       "      <th>4</th>\n",
       "      <td>sport</td>\n",
       "      <td>&lt;time class=\"page-date\"&gt;2020/02/12 17:42:00&lt;/t...</td>\n",
       "      <td>&lt;p&gt;記者蕭保祥／台南報導&lt;/p&gt;&lt;p&gt;中華職棒（CPBL）統一獅19歲潛力投手古林睿煬4日...</td>\n",
       "      <td>&lt;h1 class=\"news-title-3\"&gt;古林睿煬紅白戰148公里　驚訝卻有預期&lt;/h1&gt;</td>\n",
       "      <td>https://www.setn.com/News.aspx?NewsID=688368</td>\n",
       "    </tr>\n",
       "  </tbody>\n",
       "</table>\n",
       "</div>"
      ],
      "text/plain": [
       "        category                                               date  \\\n",
       "0  entertainment        <div class=\"time\">2020/02/13 16:36:00</div>   \n",
       "1        finance  <time class=\"page-date\">2020/02/11 10:19:00</t...   \n",
       "2          sport  <time class=\"page-date\">2020/02/10 20:52:00</t...   \n",
       "3  entertainment        <div class=\"time\">2020/02/14 20:54:00</div>   \n",
       "4          sport  <time class=\"page-date\">2020/02/12 17:42:00</t...   \n",
       "\n",
       "                                                text  \\\n",
       "0  <p>記者邱于倫／綜合報導</p><p>迪士尼真人版電影《阿拉丁》在去年上映後，票房立刻衝破...   \n",
       "1  <p>受惠於被動元件與半導體類股領漲，台股今（11）日早盤一度漲逾80點，其中，國巨一度領漲...   \n",
       "2  <p>體育中心／綜合報導</p><p>日本職棒讀賣巨人台灣選手陽岱鋼在春訓熱身賽表現不理想，...   \n",
       "3  <p>記者林呈育／綜合報導</p><p>粉絲見到偶像時，很容易變得情緒激動，如果一不小心沒有...   \n",
       "4  <p>記者蕭保祥／台南報導</p><p>中華職棒（CPBL）統一獅19歲潛力投手古林睿煬4日...   \n",
       "\n",
       "                                               title  \\\n",
       "0  <h1 id=\"newsTitle\">《阿拉丁》票房破300億　續集將開拍…原班人馬動向曝光...   \n",
       "1  <h1 class=\"news-title-3\">《台股盤中》美股漲勢激勵科技股走高　台股早...   \n",
       "2  <h1 class=\"news-title-3\">紅白賽表現不佳　日媒曝陽岱鋼賽後苦練傳悲鳴...   \n",
       "3  <h1 id=\"newsTitle\">開唱到一半…男星遭粉「拉下舞台」！嚇人畫面曝光網超怒<...   \n",
       "4  <h1 class=\"news-title-3\">古林睿煬紅白戰148公里　驚訝卻有預期</h1>   \n",
       "\n",
       "                                              url  \n",
       "0  https://www.setn.com/e/News.aspx?NewsID=688969  \n",
       "1    https://www.setn.com/News.aspx?NewsID=687318  \n",
       "2    https://www.setn.com/News.aspx?NewsID=687117  \n",
       "3  https://www.setn.com/e/News.aspx?NewsID=689821  \n",
       "4    https://www.setn.com/News.aspx?NewsID=688368  "
      ]
     },
     "execution_count": 7,
     "metadata": {},
     "output_type": "execute_result"
    }
   ],
   "source": [
    "raw.head()"
   ]
  },
  {
   "cell_type": "code",
   "execution_count": 8,
   "metadata": {
    "ExecuteTime": {
     "end_time": "2020-02-07T09:19:09.198338Z",
     "start_time": "2020-02-07T09:19:09.191838Z"
    },
    "scrolled": true
   },
   "outputs": [
    {
     "data": {
      "text/html": [
       "<div>\n",
       "<style scoped>\n",
       "    .dataframe tbody tr th:only-of-type {\n",
       "        vertical-align: middle;\n",
       "    }\n",
       "\n",
       "    .dataframe tbody tr th {\n",
       "        vertical-align: top;\n",
       "    }\n",
       "\n",
       "    .dataframe thead th {\n",
       "        text-align: right;\n",
       "    }\n",
       "</style>\n",
       "<table border=\"1\" class=\"dataframe\">\n",
       "  <thead>\n",
       "    <tr style=\"text-align: right;\">\n",
       "      <th></th>\n",
       "      <th>category</th>\n",
       "      <th>date</th>\n",
       "      <th>text</th>\n",
       "      <th>title</th>\n",
       "      <th>url</th>\n",
       "    </tr>\n",
       "  </thead>\n",
       "  <tbody>\n",
       "    <tr>\n",
       "      <th>644</th>\n",
       "      <td>finance</td>\n",
       "      <td>&lt;time class=\"page-date\"&gt;2020/02/13 19:20:00&lt;/t...</td>\n",
       "      <td>&lt;p&gt;記者陳韋帆／台北報導&lt;/p&gt;&lt;p&gt;新北市五股一名張女（化名），去年2月，請多年老友裝修...</td>\n",
       "      <td>&lt;h1 class=\"news-title-3\"&gt;眼尖女屋主抓包！百萬裝潢料遭偷換　扣40萬...</td>\n",
       "      <td>https://www.setn.com/News.aspx?NewsID=689138</td>\n",
       "    </tr>\n",
       "    <tr>\n",
       "      <th>645</th>\n",
       "      <td>sport</td>\n",
       "      <td>&lt;time class=\"page-date\"&gt;2020/02/12 14:47:00&lt;/t...</td>\n",
       "      <td>&lt;p&gt;記者劉家維／台北報導&lt;/p&gt;&lt;p&gt;HBL男子組8強傳統強權南山高中12日面對光復高中意...</td>\n",
       "      <td>&lt;h1 class=\"news-title-3\"&gt;光復爆冷奪勝　隊史首度扳倒南山&lt;/h1&gt;</td>\n",
       "      <td>https://www.setn.com/News.aspx?NewsID=688165</td>\n",
       "    </tr>\n",
       "    <tr>\n",
       "      <th>646</th>\n",
       "      <td>finance</td>\n",
       "      <td>&lt;time class=\"page-date\"&gt;2020/02/13 10:44:00&lt;/t...</td>\n",
       "      <td>&lt;p&gt;記者蔡佩蓉／台北報導&lt;/p&gt;&lt;p&gt;代表北台灣新建案市場概況的「住展風向球」，2020年...</td>\n",
       "      <td>&lt;h1 class=\"news-title-3\"&gt;不敵疫情！1月景氣燈號閃藍光「房市沉潛等天...</td>\n",
       "      <td>https://www.setn.com/News.aspx?NewsID=688660</td>\n",
       "    </tr>\n",
       "    <tr>\n",
       "      <th>647</th>\n",
       "      <td>sport</td>\n",
       "      <td>&lt;time class=\"page-date\"&gt;2020/02/13 13:03:00&lt;/t...</td>\n",
       "      <td>&lt;p&gt;記者王怡翔／綜合報導&lt;/p&gt;&lt;p&gt;日本職棒讀賣巨人13日在春訓基地進行隊內紅白戰，由一...</td>\n",
       "      <td>&lt;h1 class=\"news-title-3\"&gt;影／苦練有成果！陽岱鋼雪恥炸裂巨人首轟　監...</td>\n",
       "      <td>https://www.setn.com/News.aspx?NewsID=688807</td>\n",
       "    </tr>\n",
       "    <tr>\n",
       "      <th>648</th>\n",
       "      <td>finance</td>\n",
       "      <td>&lt;time class=\"page-date\"&gt;2020/02/08 10:27:00&lt;/t...</td>\n",
       "      <td>&lt;p&gt;外國人才專法上路2週年，國發會表示，就業金卡核發成效佳，國發會至1月30日已核發584...</td>\n",
       "      <td>&lt;h1 class=\"news-title-3\"&gt;外國人才專法上路2年　就業金卡核發達584...</td>\n",
       "      <td>https://www.setn.com/News.aspx?NewsID=685720</td>\n",
       "    </tr>\n",
       "  </tbody>\n",
       "</table>\n",
       "</div>"
      ],
      "text/plain": [
       "    category                                               date  \\\n",
       "644  finance  <time class=\"page-date\">2020/02/13 19:20:00</t...   \n",
       "645    sport  <time class=\"page-date\">2020/02/12 14:47:00</t...   \n",
       "646  finance  <time class=\"page-date\">2020/02/13 10:44:00</t...   \n",
       "647    sport  <time class=\"page-date\">2020/02/13 13:03:00</t...   \n",
       "648  finance  <time class=\"page-date\">2020/02/08 10:27:00</t...   \n",
       "\n",
       "                                                  text  \\\n",
       "644  <p>記者陳韋帆／台北報導</p><p>新北市五股一名張女（化名），去年2月，請多年老友裝修...   \n",
       "645  <p>記者劉家維／台北報導</p><p>HBL男子組8強傳統強權南山高中12日面對光復高中意...   \n",
       "646  <p>記者蔡佩蓉／台北報導</p><p>代表北台灣新建案市場概況的「住展風向球」，2020年...   \n",
       "647  <p>記者王怡翔／綜合報導</p><p>日本職棒讀賣巨人13日在春訓基地進行隊內紅白戰，由一...   \n",
       "648  <p>外國人才專法上路2週年，國發會表示，就業金卡核發成效佳，國發會至1月30日已核發584...   \n",
       "\n",
       "                                                 title  \\\n",
       "644  <h1 class=\"news-title-3\">眼尖女屋主抓包！百萬裝潢料遭偷換　扣40萬...   \n",
       "645      <h1 class=\"news-title-3\">光復爆冷奪勝　隊史首度扳倒南山</h1>   \n",
       "646  <h1 class=\"news-title-3\">不敵疫情！1月景氣燈號閃藍光「房市沉潛等天...   \n",
       "647  <h1 class=\"news-title-3\">影／苦練有成果！陽岱鋼雪恥炸裂巨人首轟　監...   \n",
       "648  <h1 class=\"news-title-3\">外國人才專法上路2年　就業金卡核發達584...   \n",
       "\n",
       "                                              url  \n",
       "644  https://www.setn.com/News.aspx?NewsID=689138  \n",
       "645  https://www.setn.com/News.aspx?NewsID=688165  \n",
       "646  https://www.setn.com/News.aspx?NewsID=688660  \n",
       "647  https://www.setn.com/News.aspx?NewsID=688807  \n",
       "648  https://www.setn.com/News.aspx?NewsID=685720  "
      ]
     },
     "execution_count": 8,
     "metadata": {},
     "output_type": "execute_result"
    }
   ],
   "source": [
    "raw.tail()"
   ]
  },
  {
   "cell_type": "markdown",
   "metadata": {},
   "source": [
    "### Remove html elements"
   ]
  },
  {
   "cell_type": "code",
   "execution_count": 9,
   "metadata": {
    "ExecuteTime": {
     "end_time": "2020-02-07T09:31:01.775370Z",
     "start_time": "2020-02-07T09:31:01.770652Z"
    }
   },
   "outputs": [
    {
     "data": {
      "text/plain": [
       "0    《阿拉丁》票房破300億 續集將開拍...原班人馬動向曝光\n",
       "1      《台股盤中》美股漲勢激勵科技股走高 台股早盤漲逾80點\n",
       "2            紅白賽表現不佳 日媒曝陽岱鋼賽後苦練傳悲鳴\n",
       "3     開唱到一半...男星遭粉「拉下舞台」!嚇人畫面曝光網超怒\n",
       "4              古林睿煬紅白戰148公里 驚訝卻有預期\n",
       "Name: title, dtype: object"
      ]
     },
     "execution_count": 9,
     "metadata": {},
     "output_type": "execute_result"
    }
   ],
   "source": [
    "raw.title[:5].str.normalize('NFKC').str.replace('<[^>]*>', '').str.strip()"
   ]
  },
  {
   "cell_type": "code",
   "execution_count": 10,
   "metadata": {},
   "outputs": [
    {
     "data": {
      "text/plain": [
       "'<h1 id=\"newsTitle\">《阿拉丁》票房破300億\\u3000續集將開拍…原班人馬動向曝光</h1>'"
      ]
     },
     "execution_count": 10,
     "metadata": {},
     "output_type": "execute_result"
    }
   ],
   "source": [
    "raw.title[0]"
   ]
  },
  {
   "cell_type": "code",
   "execution_count": 11,
   "metadata": {
    "ExecuteTime": {
     "end_time": "2020-02-07T09:34:00.188947Z",
     "start_time": "2020-02-07T09:34:00.184391Z"
    },
    "scrolled": true
   },
   "outputs": [
    {
     "data": {
      "text/plain": [
       "'《阿拉丁》票房破300億 續集將開拍...原班人馬動向曝光'"
      ]
     },
     "execution_count": 11,
     "metadata": {},
     "output_type": "execute_result"
    }
   ],
   "source": [
    "raw.title[:1].str.replace('<[^>]*>', '').str.normalize('NFKC')[0]"
   ]
  },
  {
   "cell_type": "code",
   "execution_count": null,
   "metadata": {},
   "outputs": [],
   "source": []
  },
  {
   "cell_type": "code",
   "execution_count": 12,
   "metadata": {
    "ExecuteTime": {
     "end_time": "2020-02-07T09:35:57.177531Z",
     "start_time": "2020-02-07T09:35:57.174874Z"
    }
   },
   "outputs": [],
   "source": [
    "clean = pd.DataFrame()"
   ]
  },
  {
   "cell_type": "code",
   "execution_count": 13,
   "metadata": {
    "ExecuteTime": {
     "end_time": "2020-02-07T09:35:57.657600Z",
     "start_time": "2020-02-07T09:35:57.654501Z"
    }
   },
   "outputs": [],
   "source": [
    "clean['url'] = raw.url"
   ]
  },
  {
   "cell_type": "code",
   "execution_count": 14,
   "metadata": {
    "ExecuteTime": {
     "end_time": "2020-02-07T09:35:58.106957Z",
     "start_time": "2020-02-07T09:35:58.102268Z"
    }
   },
   "outputs": [],
   "source": [
    "clean['title'] = raw.title.str.replace('<[^>]*>', '').str.normalize('NFKC')"
   ]
  },
  {
   "cell_type": "code",
   "execution_count": 15,
   "metadata": {
    "ExecuteTime": {
     "end_time": "2020-02-07T09:35:58.588335Z",
     "start_time": "2020-02-07T09:35:58.568452Z"
    }
   },
   "outputs": [],
   "source": [
    "clean['text'] = raw.text.str.replace('<[^>]*>', '').str.normalize('NFKC')"
   ]
  },
  {
   "cell_type": "code",
   "execution_count": 16,
   "metadata": {
    "ExecuteTime": {
     "end_time": "2020-02-07T09:36:08.652336Z",
     "start_time": "2020-02-07T09:36:08.648068Z"
    }
   },
   "outputs": [],
   "source": [
    "clean['category'] = raw.category"
   ]
  },
  {
   "cell_type": "code",
   "execution_count": 17,
   "metadata": {},
   "outputs": [
    {
     "data": {
      "text/plain": [
       "'旅遊史。※ 免付費防疫專線:1922、0800-001922'"
      ]
     },
     "execution_count": 17,
     "metadata": {},
     "output_type": "execute_result"
    }
   ],
   "source": [
    "clean['text'].iloc[13][-30:]"
   ]
  },
  {
   "cell_type": "code",
   "execution_count": 18,
   "metadata": {
    "ExecuteTime": {
     "end_time": "2020-02-07T09:36:10.464166Z",
     "start_time": "2020-02-07T09:36:10.455366Z"
    }
   },
   "outputs": [
    {
     "data": {
      "text/html": [
       "<div>\n",
       "<style scoped>\n",
       "    .dataframe tbody tr th:only-of-type {\n",
       "        vertical-align: middle;\n",
       "    }\n",
       "\n",
       "    .dataframe tbody tr th {\n",
       "        vertical-align: top;\n",
       "    }\n",
       "\n",
       "    .dataframe thead th {\n",
       "        text-align: right;\n",
       "    }\n",
       "</style>\n",
       "<table border=\"1\" class=\"dataframe\">\n",
       "  <thead>\n",
       "    <tr style=\"text-align: right;\">\n",
       "      <th></th>\n",
       "      <th>url</th>\n",
       "      <th>title</th>\n",
       "      <th>text</th>\n",
       "      <th>category</th>\n",
       "    </tr>\n",
       "  </thead>\n",
       "  <tbody>\n",
       "    <tr>\n",
       "      <th>0</th>\n",
       "      <td>https://www.setn.com/e/News.aspx?NewsID=688969</td>\n",
       "      <td>《阿拉丁》票房破300億 續集將開拍...原班人馬動向曝光</td>\n",
       "      <td>記者邱于倫/綜合報導迪士尼真人版電影《阿拉丁》在去年上映後,票房立刻衝破10億美元(約300...</td>\n",
       "      <td>entertainment</td>\n",
       "    </tr>\n",
       "    <tr>\n",
       "      <th>1</th>\n",
       "      <td>https://www.setn.com/News.aspx?NewsID=687318</td>\n",
       "      <td>《台股盤中》美股漲勢激勵科技股走高 台股早盤漲逾80點</td>\n",
       "      <td>受惠於被動元件與半導體類股領漲,台股今(11)日早盤一度漲逾80點,其中,國巨一度領漲逾5%...</td>\n",
       "      <td>finance</td>\n",
       "    </tr>\n",
       "    <tr>\n",
       "      <th>2</th>\n",
       "      <td>https://www.setn.com/News.aspx?NewsID=687117</td>\n",
       "      <td>紅白賽表現不佳 日媒曝陽岱鋼賽後苦練傳悲鳴</td>\n",
       "      <td>體育中心/綜合報導日本職棒讀賣巨人台灣選手陽岱鋼在春訓熱身賽表現不理想,10日日本媒體《夕刊...</td>\n",
       "      <td>sport</td>\n",
       "    </tr>\n",
       "    <tr>\n",
       "      <th>3</th>\n",
       "      <td>https://www.setn.com/e/News.aspx?NewsID=689821</td>\n",
       "      <td>開唱到一半...男星遭粉「拉下舞台」!嚇人畫面曝光網超怒</td>\n",
       "      <td>記者林呈育/綜合報導粉絲見到偶像時,很容易變得情緒激動,如果一不小心沒有控制好界線,很容易就...</td>\n",
       "      <td>entertainment</td>\n",
       "    </tr>\n",
       "    <tr>\n",
       "      <th>4</th>\n",
       "      <td>https://www.setn.com/News.aspx?NewsID=688368</td>\n",
       "      <td>古林睿煬紅白戰148公里 驚訝卻有預期</td>\n",
       "      <td>記者蕭保祥/台南報導中華職棒(CPBL)統一獅19歲潛力投手古林睿煬4日在首場紅白戰就投到1...</td>\n",
       "      <td>sport</td>\n",
       "    </tr>\n",
       "  </tbody>\n",
       "</table>\n",
       "</div>"
      ],
      "text/plain": [
       "                                              url  \\\n",
       "0  https://www.setn.com/e/News.aspx?NewsID=688969   \n",
       "1    https://www.setn.com/News.aspx?NewsID=687318   \n",
       "2    https://www.setn.com/News.aspx?NewsID=687117   \n",
       "3  https://www.setn.com/e/News.aspx?NewsID=689821   \n",
       "4    https://www.setn.com/News.aspx?NewsID=688368   \n",
       "\n",
       "                           title  \\\n",
       "0  《阿拉丁》票房破300億 續集將開拍...原班人馬動向曝光   \n",
       "1    《台股盤中》美股漲勢激勵科技股走高 台股早盤漲逾80點   \n",
       "2          紅白賽表現不佳 日媒曝陽岱鋼賽後苦練傳悲鳴   \n",
       "3   開唱到一半...男星遭粉「拉下舞台」!嚇人畫面曝光網超怒   \n",
       "4            古林睿煬紅白戰148公里 驚訝卻有預期   \n",
       "\n",
       "                                                text       category  \n",
       "0  記者邱于倫/綜合報導迪士尼真人版電影《阿拉丁》在去年上映後,票房立刻衝破10億美元(約300...  entertainment  \n",
       "1  受惠於被動元件與半導體類股領漲,台股今(11)日早盤一度漲逾80點,其中,國巨一度領漲逾5%...        finance  \n",
       "2  體育中心/綜合報導日本職棒讀賣巨人台灣選手陽岱鋼在春訓熱身賽表現不理想,10日日本媒體《夕刊...          sport  \n",
       "3  記者林呈育/綜合報導粉絲見到偶像時,很容易變得情緒激動,如果一不小心沒有控制好界線,很容易就...  entertainment  \n",
       "4  記者蕭保祥/台南報導中華職棒(CPBL)統一獅19歲潛力投手古林睿煬4日在首場紅白戰就投到1...          sport  "
      ]
     },
     "execution_count": 18,
     "metadata": {},
     "output_type": "execute_result"
    }
   ],
   "source": [
    "clean.head()"
   ]
  },
  {
   "cell_type": "code",
   "execution_count": 19,
   "metadata": {},
   "outputs": [
    {
     "data": {
      "text/html": [
       "<div>\n",
       "<style scoped>\n",
       "    .dataframe tbody tr th:only-of-type {\n",
       "        vertical-align: middle;\n",
       "    }\n",
       "\n",
       "    .dataframe tbody tr th {\n",
       "        vertical-align: top;\n",
       "    }\n",
       "\n",
       "    .dataframe thead th {\n",
       "        text-align: right;\n",
       "    }\n",
       "</style>\n",
       "<table border=\"1\" class=\"dataframe\">\n",
       "  <thead>\n",
       "    <tr style=\"text-align: right;\">\n",
       "      <th></th>\n",
       "      <th>url</th>\n",
       "      <th>title</th>\n",
       "      <th>text</th>\n",
       "      <th>category</th>\n",
       "    </tr>\n",
       "  </thead>\n",
       "  <tbody>\n",
       "    <tr>\n",
       "      <th>644</th>\n",
       "      <td>https://www.setn.com/News.aspx?NewsID=689138</td>\n",
       "      <td>眼尖女屋主抓包!百萬裝潢料遭偷換 扣40萬尾款成功反制</td>\n",
       "      <td>記者陳韋帆/台北報導新北市五股一名張女(化名),去年2月,請多年老友裝修業者林男裝修、報價1...</td>\n",
       "      <td>finance</td>\n",
       "    </tr>\n",
       "    <tr>\n",
       "      <th>645</th>\n",
       "      <td>https://www.setn.com/News.aspx?NewsID=688165</td>\n",
       "      <td>光復爆冷奪勝 隊史首度扳倒南山</td>\n",
       "      <td>記者劉家維/台北報導HBL男子組8強傳統強權南山高中12日面對光復高中意外陷入苦戰,全場一路...</td>\n",
       "      <td>sport</td>\n",
       "    </tr>\n",
       "    <tr>\n",
       "      <th>646</th>\n",
       "      <td>https://www.setn.com/News.aspx?NewsID=688660</td>\n",
       "      <td>不敵疫情!1月景氣燈號閃藍光「房市沉潛等天明」</td>\n",
       "      <td>記者蔡佩蓉/台北報導代表北台灣新建案市場概況的「住展風向球」,2020年1月總分續落至29....</td>\n",
       "      <td>finance</td>\n",
       "    </tr>\n",
       "    <tr>\n",
       "      <th>647</th>\n",
       "      <td>https://www.setn.com/News.aspx?NewsID=688807</td>\n",
       "      <td>影/苦練有成果!陽岱鋼雪恥炸裂巨人首轟 監督展笑顏</td>\n",
       "      <td>記者王怡翔/綜合報導日本職棒讀賣巨人13日在春訓基地進行隊內紅白戰,由一二軍進行分組對抗賽,...</td>\n",
       "      <td>sport</td>\n",
       "    </tr>\n",
       "    <tr>\n",
       "      <th>648</th>\n",
       "      <td>https://www.setn.com/News.aspx?NewsID=685720</td>\n",
       "      <td>外國人才專法上路2年 就業金卡核發達584張</td>\n",
       "      <td>外國人才專法上路2週年,國發會表示,就業金卡核發成效佳,國發會至1月30日已核發584張,其...</td>\n",
       "      <td>finance</td>\n",
       "    </tr>\n",
       "  </tbody>\n",
       "</table>\n",
       "</div>"
      ],
      "text/plain": [
       "                                              url  \\\n",
       "644  https://www.setn.com/News.aspx?NewsID=689138   \n",
       "645  https://www.setn.com/News.aspx?NewsID=688165   \n",
       "646  https://www.setn.com/News.aspx?NewsID=688660   \n",
       "647  https://www.setn.com/News.aspx?NewsID=688807   \n",
       "648  https://www.setn.com/News.aspx?NewsID=685720   \n",
       "\n",
       "                           title  \\\n",
       "644  眼尖女屋主抓包!百萬裝潢料遭偷換 扣40萬尾款成功反制   \n",
       "645              光復爆冷奪勝 隊史首度扳倒南山   \n",
       "646      不敵疫情!1月景氣燈號閃藍光「房市沉潛等天明」   \n",
       "647    影/苦練有成果!陽岱鋼雪恥炸裂巨人首轟 監督展笑顏   \n",
       "648       外國人才專法上路2年 就業金卡核發達584張   \n",
       "\n",
       "                                                  text category  \n",
       "644  記者陳韋帆/台北報導新北市五股一名張女(化名),去年2月,請多年老友裝修業者林男裝修、報價1...  finance  \n",
       "645  記者劉家維/台北報導HBL男子組8強傳統強權南山高中12日面對光復高中意外陷入苦戰,全場一路...    sport  \n",
       "646  記者蔡佩蓉/台北報導代表北台灣新建案市場概況的「住展風向球」,2020年1月總分續落至29....  finance  \n",
       "647  記者王怡翔/綜合報導日本職棒讀賣巨人13日在春訓基地進行隊內紅白戰,由一二軍進行分組對抗賽,...    sport  \n",
       "648  外國人才專法上路2週年,國發會表示,就業金卡核發成效佳,國發會至1月30日已核發584張,其...  finance  "
      ]
     },
     "execution_count": 19,
     "metadata": {},
     "output_type": "execute_result"
    }
   ],
   "source": [
    "clean.tail()"
   ]
  },
  {
   "cell_type": "code",
   "execution_count": 20,
   "metadata": {},
   "outputs": [
    {
     "data": {
      "text/plain": [
       "'記者邱于倫/綜合報導迪士尼真人版電影《阿'"
      ]
     },
     "execution_count": 20,
     "metadata": {},
     "output_type": "execute_result"
    }
   ],
   "source": [
    "clean['text'].iloc[0][:20]"
   ]
  },
  {
   "cell_type": "markdown",
   "metadata": {},
   "source": [
    "Remove strings like `記者王怡翔/綜合報導` and `記者劉家維/台北報導`"
   ]
  },
  {
   "cell_type": "code",
   "execution_count": 21,
   "metadata": {},
   "outputs": [
    {
     "data": {
      "text/plain": [
       "'記者xx/xx報導'"
      ]
     },
     "execution_count": 21,
     "metadata": {},
     "output_type": "execute_result"
    }
   ],
   "source": [
    "'記者xx/xx報導'"
   ]
  },
  {
   "cell_type": "code",
   "execution_count": 22,
   "metadata": {},
   "outputs": [],
   "source": [
    "import re"
   ]
  },
  {
   "cell_type": "code",
   "execution_count": 23,
   "metadata": {
    "scrolled": true
   },
   "outputs": [
    {
     "data": {
      "text/plain": [
       "'迪士尼真人版電影《阿'"
      ]
     },
     "execution_count": 23,
     "metadata": {},
     "output_type": "execute_result"
    }
   ],
   "source": [
    "re.sub(r'記者[\\w]+/[\\w]+報導', '', clean['text'].iloc[0][:20])"
   ]
  },
  {
   "cell_type": "code",
   "execution_count": 24,
   "metadata": {},
   "outputs": [],
   "source": [
    "zzz = clean['text']"
   ]
  },
  {
   "cell_type": "code",
   "execution_count": 25,
   "metadata": {},
   "outputs": [
    {
     "data": {
      "text/plain": [
       "0      迪士尼真人版電影《阿拉丁》在去年上映後,票房立刻衝破10億美元(約300億台幣),更一舉捧紅...\n",
       "1      受惠於被動元件與半導體類股領漲,台股今(11)日早盤一度漲逾80點,其中,國巨一度領漲逾5%...\n",
       "2      體育中心/綜合報導日本職棒讀賣巨人台灣選手陽岱鋼在春訓熱身賽表現不理想,10日日本媒體《夕刊...\n",
       "3      粉絲見到偶像時,很容易變得情緒激動,如果一不小心沒有控制好界線,很容易就會發生意外!一名泰國...\n",
       "4      中華職棒(CPBL)統一獅19歲潛力投手古林睿煬4日在首場紅白戰就投到148公里,讓人相當期...\n",
       "                             ...                        \n",
       "644    新北市五股一名張女(化名),去年2月,請多年老友裝修業者林男裝修、報價134萬,雙方在未簽約...\n",
       "645    HBL男子組8強傳統強權南山高中12日面對光復高中意外陷入苦戰,全場一路落後,最終光復靠著團...\n",
       "646    代表北台灣新建案市場概況的「住展風向球」,2020年1月總分續落至29.7分,較去年12月的...\n",
       "647    日本職棒讀賣巨人13日在春訓基地進行隊內紅白戰,由一二軍進行分組對抗賽,台灣好手陽岱鋼雖然沒...\n",
       "648    外國人才專法上路2週年,國發會表示,就業金卡核發成效佳,國發會至1月30日已核發584張,其...\n",
       "Name: text, Length: 649, dtype: object"
      ]
     },
     "execution_count": 25,
     "metadata": {},
     "output_type": "execute_result"
    }
   ],
   "source": [
    "zzz.str.replace(r'記者[\\w]+/[\\w]+報導', '')"
   ]
  },
  {
   "cell_type": "code",
   "execution_count": 26,
   "metadata": {},
   "outputs": [],
   "source": [
    "clean['text'] = clean['text'].str.replace(r'記者[\\w]+/[\\w]+報導', '')"
   ]
  },
  {
   "cell_type": "code",
   "execution_count": 27,
   "metadata": {},
   "outputs": [
    {
     "data": {
      "text/html": [
       "<div>\n",
       "<style scoped>\n",
       "    .dataframe tbody tr th:only-of-type {\n",
       "        vertical-align: middle;\n",
       "    }\n",
       "\n",
       "    .dataframe tbody tr th {\n",
       "        vertical-align: top;\n",
       "    }\n",
       "\n",
       "    .dataframe thead th {\n",
       "        text-align: right;\n",
       "    }\n",
       "</style>\n",
       "<table border=\"1\" class=\"dataframe\">\n",
       "  <thead>\n",
       "    <tr style=\"text-align: right;\">\n",
       "      <th></th>\n",
       "      <th>url</th>\n",
       "      <th>title</th>\n",
       "      <th>text</th>\n",
       "      <th>category</th>\n",
       "    </tr>\n",
       "  </thead>\n",
       "  <tbody>\n",
       "    <tr>\n",
       "      <th>0</th>\n",
       "      <td>https://www.setn.com/e/News.aspx?NewsID=688969</td>\n",
       "      <td>《阿拉丁》票房破300億 續集將開拍...原班人馬動向曝光</td>\n",
       "      <td>迪士尼真人版電影《阿拉丁》在去年上映後,票房立刻衝破10億美元(約300億台幣),更一舉捧紅...</td>\n",
       "      <td>entertainment</td>\n",
       "    </tr>\n",
       "    <tr>\n",
       "      <th>1</th>\n",
       "      <td>https://www.setn.com/News.aspx?NewsID=687318</td>\n",
       "      <td>《台股盤中》美股漲勢激勵科技股走高 台股早盤漲逾80點</td>\n",
       "      <td>受惠於被動元件與半導體類股領漲,台股今(11)日早盤一度漲逾80點,其中,國巨一度領漲逾5%...</td>\n",
       "      <td>finance</td>\n",
       "    </tr>\n",
       "    <tr>\n",
       "      <th>2</th>\n",
       "      <td>https://www.setn.com/News.aspx?NewsID=687117</td>\n",
       "      <td>紅白賽表現不佳 日媒曝陽岱鋼賽後苦練傳悲鳴</td>\n",
       "      <td>體育中心/綜合報導日本職棒讀賣巨人台灣選手陽岱鋼在春訓熱身賽表現不理想,10日日本媒體《夕刊...</td>\n",
       "      <td>sport</td>\n",
       "    </tr>\n",
       "    <tr>\n",
       "      <th>3</th>\n",
       "      <td>https://www.setn.com/e/News.aspx?NewsID=689821</td>\n",
       "      <td>開唱到一半...男星遭粉「拉下舞台」!嚇人畫面曝光網超怒</td>\n",
       "      <td>粉絲見到偶像時,很容易變得情緒激動,如果一不小心沒有控制好界線,很容易就會發生意外!一名泰國...</td>\n",
       "      <td>entertainment</td>\n",
       "    </tr>\n",
       "    <tr>\n",
       "      <th>4</th>\n",
       "      <td>https://www.setn.com/News.aspx?NewsID=688368</td>\n",
       "      <td>古林睿煬紅白戰148公里 驚訝卻有預期</td>\n",
       "      <td>中華職棒(CPBL)統一獅19歲潛力投手古林睿煬4日在首場紅白戰就投到148公里,讓人相當期...</td>\n",
       "      <td>sport</td>\n",
       "    </tr>\n",
       "  </tbody>\n",
       "</table>\n",
       "</div>"
      ],
      "text/plain": [
       "                                              url  \\\n",
       "0  https://www.setn.com/e/News.aspx?NewsID=688969   \n",
       "1    https://www.setn.com/News.aspx?NewsID=687318   \n",
       "2    https://www.setn.com/News.aspx?NewsID=687117   \n",
       "3  https://www.setn.com/e/News.aspx?NewsID=689821   \n",
       "4    https://www.setn.com/News.aspx?NewsID=688368   \n",
       "\n",
       "                           title  \\\n",
       "0  《阿拉丁》票房破300億 續集將開拍...原班人馬動向曝光   \n",
       "1    《台股盤中》美股漲勢激勵科技股走高 台股早盤漲逾80點   \n",
       "2          紅白賽表現不佳 日媒曝陽岱鋼賽後苦練傳悲鳴   \n",
       "3   開唱到一半...男星遭粉「拉下舞台」!嚇人畫面曝光網超怒   \n",
       "4            古林睿煬紅白戰148公里 驚訝卻有預期   \n",
       "\n",
       "                                                text       category  \n",
       "0  迪士尼真人版電影《阿拉丁》在去年上映後,票房立刻衝破10億美元(約300億台幣),更一舉捧紅...  entertainment  \n",
       "1  受惠於被動元件與半導體類股領漲,台股今(11)日早盤一度漲逾80點,其中,國巨一度領漲逾5%...        finance  \n",
       "2  體育中心/綜合報導日本職棒讀賣巨人台灣選手陽岱鋼在春訓熱身賽表現不理想,10日日本媒體《夕刊...          sport  \n",
       "3  粉絲見到偶像時,很容易變得情緒激動,如果一不小心沒有控制好界線,很容易就會發生意外!一名泰國...  entertainment  \n",
       "4  中華職棒(CPBL)統一獅19歲潛力投手古林睿煬4日在首場紅白戰就投到148公里,讓人相當期...          sport  "
      ]
     },
     "execution_count": 27,
     "metadata": {},
     "output_type": "execute_result"
    }
   ],
   "source": [
    "clean.head()"
   ]
  },
  {
   "cell_type": "markdown",
   "metadata": {},
   "source": [
    "Sort by category"
   ]
  },
  {
   "cell_type": "code",
   "execution_count": 28,
   "metadata": {},
   "outputs": [],
   "source": [
    "clean = clean.sort_values(by='category', ignore_index=True)"
   ]
  },
  {
   "cell_type": "code",
   "execution_count": 29,
   "metadata": {},
   "outputs": [
    {
     "data": {
      "text/html": [
       "<div>\n",
       "<style scoped>\n",
       "    .dataframe tbody tr th:only-of-type {\n",
       "        vertical-align: middle;\n",
       "    }\n",
       "\n",
       "    .dataframe tbody tr th {\n",
       "        vertical-align: top;\n",
       "    }\n",
       "\n",
       "    .dataframe thead th {\n",
       "        text-align: right;\n",
       "    }\n",
       "</style>\n",
       "<table border=\"1\" class=\"dataframe\">\n",
       "  <thead>\n",
       "    <tr style=\"text-align: right;\">\n",
       "      <th></th>\n",
       "      <th>url</th>\n",
       "      <th>title</th>\n",
       "      <th>text</th>\n",
       "      <th>category</th>\n",
       "    </tr>\n",
       "  </thead>\n",
       "  <tbody>\n",
       "    <tr>\n",
       "      <th>0</th>\n",
       "      <td>https://www.setn.com/e/News.aspx?NewsID=688969</td>\n",
       "      <td>《阿拉丁》票房破300億 續集將開拍...原班人馬動向曝光</td>\n",
       "      <td>迪士尼真人版電影《阿拉丁》在去年上映後,票房立刻衝破10億美元(約300億台幣),更一舉捧紅...</td>\n",
       "      <td>entertainment</td>\n",
       "    </tr>\n",
       "    <tr>\n",
       "      <th>1</th>\n",
       "      <td>https://www.setn.com/e/News.aspx?NewsID=689419</td>\n",
       "      <td>丁寧分享「對抗武漢肺炎」絕招 短短14字獲網友激賞</td>\n",
       "      <td>娛樂中心/陳宜秀報導武漢肺炎(COVID-19,2019新型冠狀病毒)疫情持續延燒,引起人心...</td>\n",
       "      <td>entertainment</td>\n",
       "    </tr>\n",
       "    <tr>\n",
       "      <th>2</th>\n",
       "      <td>https://www.setn.com/e/News.aspx?NewsID=689672</td>\n",
       "      <td>疫情奇景!許光漢《想見你》爆紅 「許太太」夾道搶看超狂</td>\n",
       "      <td>近期因演出《想見你》奇蹟爆紅的許光漢,今(14)為洛蔻芳情人節快閃店擔任一日店長,沒想到粉絲...</td>\n",
       "      <td>entertainment</td>\n",
       "    </tr>\n",
       "    <tr>\n",
       "      <th>3</th>\n",
       "      <td>https://www.setn.com/e/News.aspx?NewsID=689607</td>\n",
       "      <td>上酒店啪啪啪遭仙人跳 男星被威脅公布性關係強勒索3億</td>\n",
       "      <td>娛樂中心/綜合報導南韓一名男主持人去年上酒店消費認識A女,兩人之後還發生了性行為,沒想到A女...</td>\n",
       "      <td>entertainment</td>\n",
       "    </tr>\n",
       "    <tr>\n",
       "      <th>4</th>\n",
       "      <td>https://www.setn.com/e/News.aspx?NewsID=689593</td>\n",
       "      <td>孫芸芸同框21歲愛女「腿一樣細」!3關鍵養成少女身材</td>\n",
       "      <td>娛樂中心/綜合報導41歲名媛孫芸芸貴為「微風少奶奶」,舉手投足都是氣質與時尚,一張不符合年齡...</td>\n",
       "      <td>entertainment</td>\n",
       "    </tr>\n",
       "    <tr>\n",
       "      <th>...</th>\n",
       "      <td>...</td>\n",
       "      <td>...</td>\n",
       "      <td>...</td>\n",
       "      <td>...</td>\n",
       "    </tr>\n",
       "    <tr>\n",
       "      <th>644</th>\n",
       "      <td>https://www.setn.com/News.aspx?NewsID=688601</td>\n",
       "      <td>紅襪春訓報到日 王牌塞爾卻染肺炎缺席</td>\n",
       "      <td>大聯盟波士頓紅襪春訓投捕13日報到,不過王牌投手Chris Sale並未出席,原來他因為流行...</td>\n",
       "      <td>sport</td>\n",
       "    </tr>\n",
       "    <tr>\n",
       "      <th>645</th>\n",
       "      <td>https://www.setn.com/News.aspx?NewsID=689761</td>\n",
       "      <td>NBA復仇者?魔獸:詹皇是鋼鐵人、表弟是浩克</td>\n",
       "      <td>洛杉磯湖人明星中鋒「魔獸」Dwight Howard過去以超人裝扮贏得灌籃大賽冠軍的形象深植...</td>\n",
       "      <td>sport</td>\n",
       "    </tr>\n",
       "    <tr>\n",
       "      <th>646</th>\n",
       "      <td>https://www.setn.com/News.aspx?NewsID=687145</td>\n",
       "      <td>菜鳥宋昕澔挑大梁 南山擺脫青年糾纏</td>\n",
       "      <td>108學年度高中籃球聯賽(HBL),南山高中10日第3節一度領先15分,第4節被逼到只差1分...</td>\n",
       "      <td>sport</td>\n",
       "    </tr>\n",
       "    <tr>\n",
       "      <th>647</th>\n",
       "      <td>https://www.setn.com/News.aspx?NewsID=687433</td>\n",
       "      <td>影/退休前最後1次作客魔術 卡特三分球3投3中</td>\n",
       "      <td>老鷹11日作客魔術,這也是『飛人』卡特(Vince Carter)退休前最後1次造訪他曾在2...</td>\n",
       "      <td>sport</td>\n",
       "    </tr>\n",
       "    <tr>\n",
       "      <th>648</th>\n",
       "      <td>https://www.setn.com/News.aspx?NewsID=689402</td>\n",
       "      <td>札幌巨蛋比賽首度平日下午開打 火腿新嘗試有原因</td>\n",
       "      <td>日本職棒北海道日本火腿即將在2023年迎來新主場,在此之前球隊雖然仍以札幌巨蛋作為主場地,但...</td>\n",
       "      <td>sport</td>\n",
       "    </tr>\n",
       "  </tbody>\n",
       "</table>\n",
       "<p>649 rows × 4 columns</p>\n",
       "</div>"
      ],
      "text/plain": [
       "                                                url  \\\n",
       "0    https://www.setn.com/e/News.aspx?NewsID=688969   \n",
       "1    https://www.setn.com/e/News.aspx?NewsID=689419   \n",
       "2    https://www.setn.com/e/News.aspx?NewsID=689672   \n",
       "3    https://www.setn.com/e/News.aspx?NewsID=689607   \n",
       "4    https://www.setn.com/e/News.aspx?NewsID=689593   \n",
       "..                                              ...   \n",
       "644    https://www.setn.com/News.aspx?NewsID=688601   \n",
       "645    https://www.setn.com/News.aspx?NewsID=689761   \n",
       "646    https://www.setn.com/News.aspx?NewsID=687145   \n",
       "647    https://www.setn.com/News.aspx?NewsID=687433   \n",
       "648    https://www.setn.com/News.aspx?NewsID=689402   \n",
       "\n",
       "                             title  \\\n",
       "0    《阿拉丁》票房破300億 續集將開拍...原班人馬動向曝光   \n",
       "1        丁寧分享「對抗武漢肺炎」絕招 短短14字獲網友激賞   \n",
       "2      疫情奇景!許光漢《想見你》爆紅 「許太太」夾道搶看超狂   \n",
       "3       上酒店啪啪啪遭仙人跳 男星被威脅公布性關係強勒索3億   \n",
       "4       孫芸芸同框21歲愛女「腿一樣細」!3關鍵養成少女身材   \n",
       "..                             ...   \n",
       "644             紅襪春訓報到日 王牌塞爾卻染肺炎缺席   \n",
       "645         NBA復仇者?魔獸:詹皇是鋼鐵人、表弟是浩克   \n",
       "646              菜鳥宋昕澔挑大梁 南山擺脫青年糾纏   \n",
       "647        影/退休前最後1次作客魔術 卡特三分球3投3中   \n",
       "648        札幌巨蛋比賽首度平日下午開打 火腿新嘗試有原因   \n",
       "\n",
       "                                                  text       category  \n",
       "0    迪士尼真人版電影《阿拉丁》在去年上映後,票房立刻衝破10億美元(約300億台幣),更一舉捧紅...  entertainment  \n",
       "1    娛樂中心/陳宜秀報導武漢肺炎(COVID-19,2019新型冠狀病毒)疫情持續延燒,引起人心...  entertainment  \n",
       "2    近期因演出《想見你》奇蹟爆紅的許光漢,今(14)為洛蔻芳情人節快閃店擔任一日店長,沒想到粉絲...  entertainment  \n",
       "3    娛樂中心/綜合報導南韓一名男主持人去年上酒店消費認識A女,兩人之後還發生了性行為,沒想到A女...  entertainment  \n",
       "4    娛樂中心/綜合報導41歲名媛孫芸芸貴為「微風少奶奶」,舉手投足都是氣質與時尚,一張不符合年齡...  entertainment  \n",
       "..                                                 ...            ...  \n",
       "644  大聯盟波士頓紅襪春訓投捕13日報到,不過王牌投手Chris Sale並未出席,原來他因為流行...          sport  \n",
       "645  洛杉磯湖人明星中鋒「魔獸」Dwight Howard過去以超人裝扮贏得灌籃大賽冠軍的形象深植...          sport  \n",
       "646  108學年度高中籃球聯賽(HBL),南山高中10日第3節一度領先15分,第4節被逼到只差1分...          sport  \n",
       "647  老鷹11日作客魔術,這也是『飛人』卡特(Vince Carter)退休前最後1次造訪他曾在2...          sport  \n",
       "648  日本職棒北海道日本火腿即將在2023年迎來新主場,在此之前球隊雖然仍以札幌巨蛋作為主場地,但...          sport  \n",
       "\n",
       "[649 rows x 4 columns]"
      ]
     },
     "execution_count": 29,
     "metadata": {},
     "output_type": "execute_result"
    }
   ],
   "source": [
    "clean"
   ]
  },
  {
   "cell_type": "code",
   "execution_count": 33,
   "metadata": {
    "ExecuteTime": {
     "end_time": "2020-02-07T09:44:49.734266Z",
     "start_time": "2020-02-07T09:44:49.728103Z"
    }
   },
   "outputs": [],
   "source": [
    "clean.to_json(data/'setn_clean_sorted.json', force_ascii=False)"
   ]
  },
  {
   "cell_type": "code",
   "execution_count": null,
   "metadata": {},
   "outputs": [],
   "source": []
  }
 ],
 "metadata": {
  "kernelspec": {
   "display_name": "Python 3",
   "language": "python",
   "name": "python3"
  },
  "language_info": {
   "codemirror_mode": {
    "name": "ipython",
    "version": 3
   },
   "file_extension": ".py",
   "mimetype": "text/x-python",
   "name": "python",
   "nbconvert_exporter": "python",
   "pygments_lexer": "ipython3",
   "version": "3.7.5"
  }
 },
 "nbformat": 4,
 "nbformat_minor": 2
}
