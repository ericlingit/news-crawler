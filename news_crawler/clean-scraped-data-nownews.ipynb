{
 "cells": [
  {
   "cell_type": "code",
   "execution_count": 1,
   "metadata": {
    "ExecuteTime": {
     "end_time": "2020-02-07T09:18:09.036912Z",
     "start_time": "2020-02-07T09:18:08.719690Z"
    }
   },
   "outputs": [],
   "source": [
    "import pandas as pd\n",
    "from pathlib import Path"
   ]
  },
  {
   "cell_type": "code",
   "execution_count": 3,
   "metadata": {},
   "outputs": [
    {
     "data": {
      "text/plain": [
       "True"
      ]
     },
     "execution_count": 3,
     "metadata": {},
     "output_type": "execute_result"
    }
   ],
   "source": [
    "data = Path('./spiders/output/four_categories/nownews')\n",
    "data.exists()"
   ]
  },
  {
   "cell_type": "markdown",
   "metadata": {},
   "source": [
    "### Store in a DataFrame"
   ]
  },
  {
   "cell_type": "markdown",
   "metadata": {},
   "source": [
    "Load all raw data"
   ]
  },
  {
   "cell_type": "code",
   "execution_count": 6,
   "metadata": {},
   "outputs": [],
   "source": [
    "pol = pd.read_json(data/'raw/scraped_politics.json')\n",
    "ent = pd.read_json(data/'raw/scraped_entertainment.json')\n",
    "fin = pd.read_json(data/'raw/scraped_finance.json')\n",
    "spo = pd.read_json(data/'raw/scraped_sport.json')"
   ]
  },
  {
   "cell_type": "markdown",
   "metadata": {},
   "source": [
    "Add a category to all dataframes"
   ]
  },
  {
   "cell_type": "code",
   "execution_count": 9,
   "metadata": {},
   "outputs": [],
   "source": [
    "pol['category'] = 'politic'\n",
    "ent['category'] = 'entertainment'\n",
    "fin['category'] = 'finance'\n",
    "spo['category'] = 'sport'"
   ]
  },
  {
   "cell_type": "markdown",
   "metadata": {},
   "source": [
    "Combine all"
   ]
  },
  {
   "cell_type": "code",
   "execution_count": 13,
   "metadata": {},
   "outputs": [
    {
     "data": {
      "text/html": [
       "<div>\n",
       "<style scoped>\n",
       "    .dataframe tbody tr th:only-of-type {\n",
       "        vertical-align: middle;\n",
       "    }\n",
       "\n",
       "    .dataframe tbody tr th {\n",
       "        vertical-align: top;\n",
       "    }\n",
       "\n",
       "    .dataframe thead th {\n",
       "        text-align: right;\n",
       "    }\n",
       "</style>\n",
       "<table border=\"1\" class=\"dataframe\">\n",
       "  <thead>\n",
       "    <tr style=\"text-align: right;\">\n",
       "      <th></th>\n",
       "      <th>url</th>\n",
       "      <th>title</th>\n",
       "      <th>text</th>\n",
       "      <th>category</th>\n",
       "    </tr>\n",
       "  </thead>\n",
       "  <tbody>\n",
       "    <tr>\n",
       "      <th>0</th>\n",
       "      <td>https://www.nownews.com/news/20200206/3920498/</td>\n",
       "      <td>&lt;h1 class=\"entry-title\"&gt;影／洩漏北市安置點有陰謀論？　柯文哲：145...</td>\n",
       "      <td>&lt;p&gt;沈寂兩天後，台北市長柯文哲今天（6日）上午終於出席公開活動，參與創新便民座談會，並在媒...</td>\n",
       "      <td>politic</td>\n",
       "    </tr>\n",
       "    <tr>\n",
       "      <th>1</th>\n",
       "      <td>https://www.nownews.com/news/20200206/3920981/</td>\n",
       "      <td>&lt;h1 class=\"entry-title\"&gt;分身？徐正文戴口罩領表中常委選舉　但徐否認參...</td>\n",
       "      <td>&lt;p&gt;「湖北武漢台胞返台救援會長」徐正文聯繫武漢台商包機回台引發爭議，徐正文6日出現在國民黨...</td>\n",
       "      <td>politic</td>\n",
       "    </tr>\n",
       "    <tr>\n",
       "      <th>2</th>\n",
       "      <td>https://www.nownews.com/news/20200206/3921113/</td>\n",
       "      <td>&lt;h1 class=\"entry-title\"&gt;挪用教育局前線口罩供給身障、老人　市府：中央...</td>\n",
       "      <td>&lt;p&gt;中國大陸武漢肺炎疫情持續延燒，中央政府為了妥善規劃口罩供給，從今天（6日）開始在健保指...</td>\n",
       "      <td>politic</td>\n",
       "    </tr>\n",
       "    <tr>\n",
       "      <th>3</th>\n",
       "      <td>https://www.nownews.com/news/20200205/3918345/</td>\n",
       "      <td>&lt;h1 class=\"entry-title\"&gt;巷仔內／醜惡還是光明？從口罩看「真實人性」&lt;...</td>\n",
       "      <td>&lt;p&gt;武漢肺炎疫情擴散全球，除疫情防治本身的發展外，一場瘟疫映射到人性的本質，是醜惡？還是光...</td>\n",
       "      <td>politic</td>\n",
       "    </tr>\n",
       "    <tr>\n",
       "      <th>4</th>\n",
       "      <td>https://www.nownews.com/news/20200205/3919398/</td>\n",
       "      <td>&lt;h1 class=\"entry-title\"&gt;巷仔內／走過防疫後　蔡政府更該重視兩岸關係&lt;...</td>\n",
       "      <td>&lt;p&gt;甫贏得總統大選的蔡英文，在第一任期的最後，發生了武漢肺炎這樣的疫情，在一定的程度上，提...</td>\n",
       "      <td>politic</td>\n",
       "    </tr>\n",
       "    <tr>\n",
       "      <th>...</th>\n",
       "      <td>...</td>\n",
       "      <td>...</td>\n",
       "      <td>...</td>\n",
       "      <td>...</td>\n",
       "    </tr>\n",
       "    <tr>\n",
       "      <th>229</th>\n",
       "      <td>https://www.nownews.com/news/20200206/3920120/</td>\n",
       "      <td>&lt;h1 class=\"entry-title\"&gt;NBA／「禿曼巴」成湖人最搶手球員　美媒：多...</td>\n",
       "      <td>&lt;p&gt;洛杉磯湖人25歲的年輕球員Alex Caruso外表像大叔，但體能卻相當勁爆，而且個性...</td>\n",
       "      <td>sport</td>\n",
       "    </tr>\n",
       "    <tr>\n",
       "      <th>230</th>\n",
       "      <td>https://www.nownews.com/news/20200206/3920156/</td>\n",
       "      <td>&lt;h1 class=\"entry-title\"&gt;NBA／鵜鶘再拉警報！選秀狀元ZION又受傷...</td>\n",
       "      <td>&lt;p&gt;鵜鶘隊菜鳥Zion Williamson再度被放入可能無法上場名單，因為他在前一場對戰...</td>\n",
       "      <td>sport</td>\n",
       "    </tr>\n",
       "    <tr>\n",
       "      <th>231</th>\n",
       "      <td>https://www.nownews.com/news/20200206/3920163/</td>\n",
       "      <td>&lt;h1 class=\"entry-title\"&gt;NBA／網路嘴仗後主動和解　灰熊榜眼：已和柯...</td>\n",
       "      <td>&lt;p&gt;灰熊榜眼Ja Morant昨天對嗆勇士超級球星Stephen Curry，還直言「我並...</td>\n",
       "      <td>sport</td>\n",
       "    </tr>\n",
       "    <tr>\n",
       "      <th>232</th>\n",
       "      <td>https://www.nownews.com/news/20200206/3920180/</td>\n",
       "      <td>&lt;h1 class=\"entry-title\"&gt;日職／台灣球界傳奇！　彭政閔前往養樂多擔任研...</td>\n",
       "      <td>&lt;p&gt;養養樂多隊今天表示，中信兄弟副領隊彭政閔，從8日開始將擔任研修教練，而這也讓總教練高津...</td>\n",
       "      <td>sport</td>\n",
       "    </tr>\n",
       "    <tr>\n",
       "      <th>233</th>\n",
       "      <td>https://www.nownews.com/news/20200206/3920147/</td>\n",
       "      <td>&lt;h1 class=\"entry-title\"&gt;NBA／震驚！傳飆風玫瑰傷辭技術挑戰賽　無緣...</td>\n",
       "      <td>&lt;p&gt;歷經大大小小的傷勢，底特律活塞球星「飆風玫瑰」Derrick Rose(羅斯)復出後屢...</td>\n",
       "      <td>sport</td>\n",
       "    </tr>\n",
       "  </tbody>\n",
       "</table>\n",
       "<p>234 rows × 4 columns</p>\n",
       "</div>"
      ],
      "text/plain": [
       "                                                url  \\\n",
       "0    https://www.nownews.com/news/20200206/3920498/   \n",
       "1    https://www.nownews.com/news/20200206/3920981/   \n",
       "2    https://www.nownews.com/news/20200206/3921113/   \n",
       "3    https://www.nownews.com/news/20200205/3918345/   \n",
       "4    https://www.nownews.com/news/20200205/3919398/   \n",
       "..                                              ...   \n",
       "229  https://www.nownews.com/news/20200206/3920120/   \n",
       "230  https://www.nownews.com/news/20200206/3920156/   \n",
       "231  https://www.nownews.com/news/20200206/3920163/   \n",
       "232  https://www.nownews.com/news/20200206/3920180/   \n",
       "233  https://www.nownews.com/news/20200206/3920147/   \n",
       "\n",
       "                                                 title  \\\n",
       "0    <h1 class=\"entry-title\">影／洩漏北市安置點有陰謀論？　柯文哲：145...   \n",
       "1    <h1 class=\"entry-title\">分身？徐正文戴口罩領表中常委選舉　但徐否認參...   \n",
       "2    <h1 class=\"entry-title\">挪用教育局前線口罩供給身障、老人　市府：中央...   \n",
       "3    <h1 class=\"entry-title\">巷仔內／醜惡還是光明？從口罩看「真實人性」<...   \n",
       "4    <h1 class=\"entry-title\">巷仔內／走過防疫後　蔡政府更該重視兩岸關係<...   \n",
       "..                                                 ...   \n",
       "229  <h1 class=\"entry-title\">NBA／「禿曼巴」成湖人最搶手球員　美媒：多...   \n",
       "230  <h1 class=\"entry-title\">NBA／鵜鶘再拉警報！選秀狀元ZION又受傷...   \n",
       "231  <h1 class=\"entry-title\">NBA／網路嘴仗後主動和解　灰熊榜眼：已和柯...   \n",
       "232  <h1 class=\"entry-title\">日職／台灣球界傳奇！　彭政閔前往養樂多擔任研...   \n",
       "233  <h1 class=\"entry-title\">NBA／震驚！傳飆風玫瑰傷辭技術挑戰賽　無緣...   \n",
       "\n",
       "                                                  text category  \n",
       "0    <p>沈寂兩天後，台北市長柯文哲今天（6日）上午終於出席公開活動，參與創新便民座談會，並在媒...  politic  \n",
       "1    <p>「湖北武漢台胞返台救援會長」徐正文聯繫武漢台商包機回台引發爭議，徐正文6日出現在國民黨...  politic  \n",
       "2    <p>中國大陸武漢肺炎疫情持續延燒，中央政府為了妥善規劃口罩供給，從今天（6日）開始在健保指...  politic  \n",
       "3    <p>武漢肺炎疫情擴散全球，除疫情防治本身的發展外，一場瘟疫映射到人性的本質，是醜惡？還是光...  politic  \n",
       "4    <p>甫贏得總統大選的蔡英文，在第一任期的最後，發生了武漢肺炎這樣的疫情，在一定的程度上，提...  politic  \n",
       "..                                                 ...      ...  \n",
       "229  <p>洛杉磯湖人25歲的年輕球員Alex Caruso外表像大叔，但體能卻相當勁爆，而且個性...    sport  \n",
       "230  <p>鵜鶘隊菜鳥Zion Williamson再度被放入可能無法上場名單，因為他在前一場對戰...    sport  \n",
       "231  <p>灰熊榜眼Ja Morant昨天對嗆勇士超級球星Stephen Curry，還直言「我並...    sport  \n",
       "232  <p>養養樂多隊今天表示，中信兄弟副領隊彭政閔，從8日開始將擔任研修教練，而這也讓總教練高津...    sport  \n",
       "233  <p>歷經大大小小的傷勢，底特律活塞球星「飆風玫瑰」Derrick Rose(羅斯)復出後屢...    sport  \n",
       "\n",
       "[234 rows x 4 columns]"
      ]
     },
     "execution_count": 13,
     "metadata": {},
     "output_type": "execute_result"
    }
   ],
   "source": [
    "a = pd.concat([pol, ent, fin, spo], ignore_index=True)\n",
    "a"
   ]
  },
  {
   "cell_type": "code",
   "execution_count": 14,
   "metadata": {
    "ExecuteTime": {
     "end_time": "2020-02-07T09:18:39.247522Z",
     "start_time": "2020-02-07T09:18:39.243881Z"
    },
    "scrolled": true
   },
   "outputs": [],
   "source": [
    "a.to_json(data/'raw/raw_dataframe.json')"
   ]
  },
  {
   "cell_type": "markdown",
   "metadata": {},
   "source": [
    "---"
   ]
  },
  {
   "cell_type": "markdown",
   "metadata": {},
   "source": [
    "### Clean text"
   ]
  },
  {
   "cell_type": "code",
   "execution_count": 15,
   "metadata": {
    "ExecuteTime": {
     "end_time": "2020-02-07T09:19:03.748288Z",
     "start_time": "2020-02-07T09:19:03.736682Z"
    },
    "scrolled": true
   },
   "outputs": [
    {
     "data": {
      "text/html": [
       "<div>\n",
       "<style scoped>\n",
       "    .dataframe tbody tr th:only-of-type {\n",
       "        vertical-align: middle;\n",
       "    }\n",
       "\n",
       "    .dataframe tbody tr th {\n",
       "        vertical-align: top;\n",
       "    }\n",
       "\n",
       "    .dataframe thead th {\n",
       "        text-align: right;\n",
       "    }\n",
       "</style>\n",
       "<table border=\"1\" class=\"dataframe\">\n",
       "  <thead>\n",
       "    <tr style=\"text-align: right;\">\n",
       "      <th></th>\n",
       "      <th>url</th>\n",
       "      <th>title</th>\n",
       "      <th>text</th>\n",
       "      <th>category</th>\n",
       "    </tr>\n",
       "  </thead>\n",
       "  <tbody>\n",
       "    <tr>\n",
       "      <th>0</th>\n",
       "      <td>https://www.nownews.com/news/20200206/3920498/</td>\n",
       "      <td>&lt;h1 class=\"entry-title\"&gt;影／洩漏北市安置點有陰謀論？　柯文哲：145...</td>\n",
       "      <td>&lt;p&gt;沈寂兩天後，台北市長柯文哲今天（6日）上午終於出席公開活動，參與創新便民座談會，並在媒...</td>\n",
       "      <td>politic</td>\n",
       "    </tr>\n",
       "    <tr>\n",
       "      <th>1</th>\n",
       "      <td>https://www.nownews.com/news/20200206/3920981/</td>\n",
       "      <td>&lt;h1 class=\"entry-title\"&gt;分身？徐正文戴口罩領表中常委選舉　但徐否認參...</td>\n",
       "      <td>&lt;p&gt;「湖北武漢台胞返台救援會長」徐正文聯繫武漢台商包機回台引發爭議，徐正文6日出現在國民黨...</td>\n",
       "      <td>politic</td>\n",
       "    </tr>\n",
       "    <tr>\n",
       "      <th>2</th>\n",
       "      <td>https://www.nownews.com/news/20200206/3921113/</td>\n",
       "      <td>&lt;h1 class=\"entry-title\"&gt;挪用教育局前線口罩供給身障、老人　市府：中央...</td>\n",
       "      <td>&lt;p&gt;中國大陸武漢肺炎疫情持續延燒，中央政府為了妥善規劃口罩供給，從今天（6日）開始在健保指...</td>\n",
       "      <td>politic</td>\n",
       "    </tr>\n",
       "    <tr>\n",
       "      <th>3</th>\n",
       "      <td>https://www.nownews.com/news/20200205/3918345/</td>\n",
       "      <td>&lt;h1 class=\"entry-title\"&gt;巷仔內／醜惡還是光明？從口罩看「真實人性」&lt;...</td>\n",
       "      <td>&lt;p&gt;武漢肺炎疫情擴散全球，除疫情防治本身的發展外，一場瘟疫映射到人性的本質，是醜惡？還是光...</td>\n",
       "      <td>politic</td>\n",
       "    </tr>\n",
       "    <tr>\n",
       "      <th>4</th>\n",
       "      <td>https://www.nownews.com/news/20200205/3919398/</td>\n",
       "      <td>&lt;h1 class=\"entry-title\"&gt;巷仔內／走過防疫後　蔡政府更該重視兩岸關係&lt;...</td>\n",
       "      <td>&lt;p&gt;甫贏得總統大選的蔡英文，在第一任期的最後，發生了武漢肺炎這樣的疫情，在一定的程度上，提...</td>\n",
       "      <td>politic</td>\n",
       "    </tr>\n",
       "  </tbody>\n",
       "</table>\n",
       "</div>"
      ],
      "text/plain": [
       "                                              url  \\\n",
       "0  https://www.nownews.com/news/20200206/3920498/   \n",
       "1  https://www.nownews.com/news/20200206/3920981/   \n",
       "2  https://www.nownews.com/news/20200206/3921113/   \n",
       "3  https://www.nownews.com/news/20200205/3918345/   \n",
       "4  https://www.nownews.com/news/20200205/3919398/   \n",
       "\n",
       "                                               title  \\\n",
       "0  <h1 class=\"entry-title\">影／洩漏北市安置點有陰謀論？　柯文哲：145...   \n",
       "1  <h1 class=\"entry-title\">分身？徐正文戴口罩領表中常委選舉　但徐否認參...   \n",
       "2  <h1 class=\"entry-title\">挪用教育局前線口罩供給身障、老人　市府：中央...   \n",
       "3  <h1 class=\"entry-title\">巷仔內／醜惡還是光明？從口罩看「真實人性」<...   \n",
       "4  <h1 class=\"entry-title\">巷仔內／走過防疫後　蔡政府更該重視兩岸關係<...   \n",
       "\n",
       "                                                text category  \n",
       "0  <p>沈寂兩天後，台北市長柯文哲今天（6日）上午終於出席公開活動，參與創新便民座談會，並在媒...  politic  \n",
       "1  <p>「湖北武漢台胞返台救援會長」徐正文聯繫武漢台商包機回台引發爭議，徐正文6日出現在國民黨...  politic  \n",
       "2  <p>中國大陸武漢肺炎疫情持續延燒，中央政府為了妥善規劃口罩供給，從今天（6日）開始在健保指...  politic  \n",
       "3  <p>武漢肺炎疫情擴散全球，除疫情防治本身的發展外，一場瘟疫映射到人性的本質，是醜惡？還是光...  politic  \n",
       "4  <p>甫贏得總統大選的蔡英文，在第一任期的最後，發生了武漢肺炎這樣的疫情，在一定的程度上，提...  politic  "
      ]
     },
     "execution_count": 15,
     "metadata": {},
     "output_type": "execute_result"
    }
   ],
   "source": [
    "a.head()"
   ]
  },
  {
   "cell_type": "code",
   "execution_count": 16,
   "metadata": {
    "ExecuteTime": {
     "end_time": "2020-02-07T09:19:09.198338Z",
     "start_time": "2020-02-07T09:19:09.191838Z"
    }
   },
   "outputs": [
    {
     "data": {
      "text/html": [
       "<div>\n",
       "<style scoped>\n",
       "    .dataframe tbody tr th:only-of-type {\n",
       "        vertical-align: middle;\n",
       "    }\n",
       "\n",
       "    .dataframe tbody tr th {\n",
       "        vertical-align: top;\n",
       "    }\n",
       "\n",
       "    .dataframe thead th {\n",
       "        text-align: right;\n",
       "    }\n",
       "</style>\n",
       "<table border=\"1\" class=\"dataframe\">\n",
       "  <thead>\n",
       "    <tr style=\"text-align: right;\">\n",
       "      <th></th>\n",
       "      <th>url</th>\n",
       "      <th>title</th>\n",
       "      <th>text</th>\n",
       "      <th>category</th>\n",
       "    </tr>\n",
       "  </thead>\n",
       "  <tbody>\n",
       "    <tr>\n",
       "      <th>229</th>\n",
       "      <td>https://www.nownews.com/news/20200206/3920120/</td>\n",
       "      <td>&lt;h1 class=\"entry-title\"&gt;NBA／「禿曼巴」成湖人最搶手球員　美媒：多...</td>\n",
       "      <td>&lt;p&gt;洛杉磯湖人25歲的年輕球員Alex Caruso外表像大叔，但體能卻相當勁爆，而且個性...</td>\n",
       "      <td>sport</td>\n",
       "    </tr>\n",
       "    <tr>\n",
       "      <th>230</th>\n",
       "      <td>https://www.nownews.com/news/20200206/3920156/</td>\n",
       "      <td>&lt;h1 class=\"entry-title\"&gt;NBA／鵜鶘再拉警報！選秀狀元ZION又受傷...</td>\n",
       "      <td>&lt;p&gt;鵜鶘隊菜鳥Zion Williamson再度被放入可能無法上場名單，因為他在前一場對戰...</td>\n",
       "      <td>sport</td>\n",
       "    </tr>\n",
       "    <tr>\n",
       "      <th>231</th>\n",
       "      <td>https://www.nownews.com/news/20200206/3920163/</td>\n",
       "      <td>&lt;h1 class=\"entry-title\"&gt;NBA／網路嘴仗後主動和解　灰熊榜眼：已和柯...</td>\n",
       "      <td>&lt;p&gt;灰熊榜眼Ja Morant昨天對嗆勇士超級球星Stephen Curry，還直言「我並...</td>\n",
       "      <td>sport</td>\n",
       "    </tr>\n",
       "    <tr>\n",
       "      <th>232</th>\n",
       "      <td>https://www.nownews.com/news/20200206/3920180/</td>\n",
       "      <td>&lt;h1 class=\"entry-title\"&gt;日職／台灣球界傳奇！　彭政閔前往養樂多擔任研...</td>\n",
       "      <td>&lt;p&gt;養養樂多隊今天表示，中信兄弟副領隊彭政閔，從8日開始將擔任研修教練，而這也讓總教練高津...</td>\n",
       "      <td>sport</td>\n",
       "    </tr>\n",
       "    <tr>\n",
       "      <th>233</th>\n",
       "      <td>https://www.nownews.com/news/20200206/3920147/</td>\n",
       "      <td>&lt;h1 class=\"entry-title\"&gt;NBA／震驚！傳飆風玫瑰傷辭技術挑戰賽　無緣...</td>\n",
       "      <td>&lt;p&gt;歷經大大小小的傷勢，底特律活塞球星「飆風玫瑰」Derrick Rose(羅斯)復出後屢...</td>\n",
       "      <td>sport</td>\n",
       "    </tr>\n",
       "  </tbody>\n",
       "</table>\n",
       "</div>"
      ],
      "text/plain": [
       "                                                url  \\\n",
       "229  https://www.nownews.com/news/20200206/3920120/   \n",
       "230  https://www.nownews.com/news/20200206/3920156/   \n",
       "231  https://www.nownews.com/news/20200206/3920163/   \n",
       "232  https://www.nownews.com/news/20200206/3920180/   \n",
       "233  https://www.nownews.com/news/20200206/3920147/   \n",
       "\n",
       "                                                 title  \\\n",
       "229  <h1 class=\"entry-title\">NBA／「禿曼巴」成湖人最搶手球員　美媒：多...   \n",
       "230  <h1 class=\"entry-title\">NBA／鵜鶘再拉警報！選秀狀元ZION又受傷...   \n",
       "231  <h1 class=\"entry-title\">NBA／網路嘴仗後主動和解　灰熊榜眼：已和柯...   \n",
       "232  <h1 class=\"entry-title\">日職／台灣球界傳奇！　彭政閔前往養樂多擔任研...   \n",
       "233  <h1 class=\"entry-title\">NBA／震驚！傳飆風玫瑰傷辭技術挑戰賽　無緣...   \n",
       "\n",
       "                                                  text category  \n",
       "229  <p>洛杉磯湖人25歲的年輕球員Alex Caruso外表像大叔，但體能卻相當勁爆，而且個性...    sport  \n",
       "230  <p>鵜鶘隊菜鳥Zion Williamson再度被放入可能無法上場名單，因為他在前一場對戰...    sport  \n",
       "231  <p>灰熊榜眼Ja Morant昨天對嗆勇士超級球星Stephen Curry，還直言「我並...    sport  \n",
       "232  <p>養養樂多隊今天表示，中信兄弟副領隊彭政閔，從8日開始將擔任研修教練，而這也讓總教練高津...    sport  \n",
       "233  <p>歷經大大小小的傷勢，底特律活塞球星「飆風玫瑰」Derrick Rose(羅斯)復出後屢...    sport  "
      ]
     },
     "execution_count": 16,
     "metadata": {},
     "output_type": "execute_result"
    }
   ],
   "source": [
    "a.tail()"
   ]
  },
  {
   "cell_type": "markdown",
   "metadata": {},
   "source": [
    "#### Remove html elements"
   ]
  },
  {
   "cell_type": "code",
   "execution_count": 17,
   "metadata": {
    "ExecuteTime": {
     "end_time": "2020-02-07T09:31:01.775370Z",
     "start_time": "2020-02-07T09:31:01.770652Z"
    },
    "scrolled": true
   },
   "outputs": [
    {
     "data": {
      "text/plain": [
       "0    影/洩漏北市安置點有陰謀論? 柯文哲:1450還在上班\n",
       "1        分身?徐正文戴口罩領表中常委選舉 但徐否認參選\n",
       "2     挪用教育局前線口罩供給身障、老人 市府:中央供給不足\n",
       "3          巷仔內/醜惡還是光明?從口罩看「真實人性」\n",
       "4          巷仔內/走過防疫後 蔡政府更該重視兩岸關係\n",
       "Name: title, dtype: object"
      ]
     },
     "execution_count": 17,
     "metadata": {},
     "output_type": "execute_result"
    }
   ],
   "source": [
    "a.title[:5].str.normalize('NFKC').str.replace('<[^>]*>', '').str.strip()"
   ]
  },
  {
   "cell_type": "code",
   "execution_count": 18,
   "metadata": {
    "ExecuteTime": {
     "end_time": "2020-02-07T09:34:00.188947Z",
     "start_time": "2020-02-07T09:34:00.184391Z"
    },
    "scrolled": true
   },
   "outputs": [
    {
     "data": {
      "text/plain": [
       "'影/洩漏北市安置點有陰謀論? 柯文哲:1450還在上班'"
      ]
     },
     "execution_count": 18,
     "metadata": {},
     "output_type": "execute_result"
    }
   ],
   "source": [
    "a.title[:2].str.replace('<[^>]*>', '').str.normalize('NFKC')[0]"
   ]
  },
  {
   "cell_type": "code",
   "execution_count": null,
   "metadata": {},
   "outputs": [],
   "source": []
  },
  {
   "cell_type": "code",
   "execution_count": 19,
   "metadata": {
    "ExecuteTime": {
     "end_time": "2020-02-07T09:35:57.177531Z",
     "start_time": "2020-02-07T09:35:57.174874Z"
    }
   },
   "outputs": [],
   "source": [
    "clean = pd.DataFrame()"
   ]
  },
  {
   "cell_type": "code",
   "execution_count": 20,
   "metadata": {
    "ExecuteTime": {
     "end_time": "2020-02-07T09:35:57.657600Z",
     "start_time": "2020-02-07T09:35:57.654501Z"
    }
   },
   "outputs": [],
   "source": [
    "clean['url'] = a.url"
   ]
  },
  {
   "cell_type": "code",
   "execution_count": 21,
   "metadata": {
    "ExecuteTime": {
     "end_time": "2020-02-07T09:35:58.106957Z",
     "start_time": "2020-02-07T09:35:58.102268Z"
    }
   },
   "outputs": [],
   "source": [
    "clean['title'] = a.title.str.replace('<[^>]*>', '').str.normalize('NFKC')"
   ]
  },
  {
   "cell_type": "code",
   "execution_count": 22,
   "metadata": {
    "ExecuteTime": {
     "end_time": "2020-02-07T09:35:58.588335Z",
     "start_time": "2020-02-07T09:35:58.568452Z"
    }
   },
   "outputs": [],
   "source": [
    "clean['text'] = a.text.str.replace('<[^>]*>', '').str.normalize('NFKC')"
   ]
  },
  {
   "cell_type": "code",
   "execution_count": 23,
   "metadata": {
    "ExecuteTime": {
     "end_time": "2020-02-07T09:36:08.652336Z",
     "start_time": "2020-02-07T09:36:08.648068Z"
    }
   },
   "outputs": [],
   "source": [
    "clean['category'] = a.category"
   ]
  },
  {
   "cell_type": "code",
   "execution_count": 24,
   "metadata": {
    "ExecuteTime": {
     "end_time": "2020-02-07T09:36:10.464166Z",
     "start_time": "2020-02-07T09:36:10.455366Z"
    }
   },
   "outputs": [
    {
     "data": {
      "text/html": [
       "<div>\n",
       "<style scoped>\n",
       "    .dataframe tbody tr th:only-of-type {\n",
       "        vertical-align: middle;\n",
       "    }\n",
       "\n",
       "    .dataframe tbody tr th {\n",
       "        vertical-align: top;\n",
       "    }\n",
       "\n",
       "    .dataframe thead th {\n",
       "        text-align: right;\n",
       "    }\n",
       "</style>\n",
       "<table border=\"1\" class=\"dataframe\">\n",
       "  <thead>\n",
       "    <tr style=\"text-align: right;\">\n",
       "      <th></th>\n",
       "      <th>url</th>\n",
       "      <th>title</th>\n",
       "      <th>text</th>\n",
       "      <th>category</th>\n",
       "    </tr>\n",
       "  </thead>\n",
       "  <tbody>\n",
       "    <tr>\n",
       "      <th>0</th>\n",
       "      <td>https://www.nownews.com/news/20200206/3920498/</td>\n",
       "      <td>影/洩漏北市安置點有陰謀論? 柯文哲:1450還在上班</td>\n",
       "      <td>沈寂兩天後,台北市長柯文哲今天(6日)上午終於出席公開活動,參與創新便民座談會,並在媒體鏡頭...</td>\n",
       "      <td>politic</td>\n",
       "    </tr>\n",
       "    <tr>\n",
       "      <th>1</th>\n",
       "      <td>https://www.nownews.com/news/20200206/3920981/</td>\n",
       "      <td>分身?徐正文戴口罩領表中常委選舉 但徐否認參選</td>\n",
       "      <td>「湖北武漢台胞返台救援會長」徐正文聯繫武漢台商包機回台引發爭議,徐正文6日出現在國民黨中央黨...</td>\n",
       "      <td>politic</td>\n",
       "    </tr>\n",
       "    <tr>\n",
       "      <th>2</th>\n",
       "      <td>https://www.nownews.com/news/20200206/3921113/</td>\n",
       "      <td>挪用教育局前線口罩供給身障、老人 市府:中央供給不足</td>\n",
       "      <td>中國大陸武漢肺炎疫情持續延燒,中央政府為了妥善規劃口罩供給,從今天(6日)開始在健保指定藥局...</td>\n",
       "      <td>politic</td>\n",
       "    </tr>\n",
       "    <tr>\n",
       "      <th>3</th>\n",
       "      <td>https://www.nownews.com/news/20200205/3918345/</td>\n",
       "      <td>巷仔內/醜惡還是光明?從口罩看「真實人性」</td>\n",
       "      <td>武漢肺炎疫情擴散全球,除疫情防治本身的發展外,一場瘟疫映射到人性的本質,是醜惡?還是光明?都...</td>\n",
       "      <td>politic</td>\n",
       "    </tr>\n",
       "    <tr>\n",
       "      <th>4</th>\n",
       "      <td>https://www.nownews.com/news/20200205/3919398/</td>\n",
       "      <td>巷仔內/走過防疫後 蔡政府更該重視兩岸關係</td>\n",
       "      <td>甫贏得總統大選的蔡英文,在第一任期的最後,發生了武漢肺炎這樣的疫情,在一定的程度上,提醒了蔡...</td>\n",
       "      <td>politic</td>\n",
       "    </tr>\n",
       "  </tbody>\n",
       "</table>\n",
       "</div>"
      ],
      "text/plain": [
       "                                              url  \\\n",
       "0  https://www.nownews.com/news/20200206/3920498/   \n",
       "1  https://www.nownews.com/news/20200206/3920981/   \n",
       "2  https://www.nownews.com/news/20200206/3921113/   \n",
       "3  https://www.nownews.com/news/20200205/3918345/   \n",
       "4  https://www.nownews.com/news/20200205/3919398/   \n",
       "\n",
       "                         title  \\\n",
       "0  影/洩漏北市安置點有陰謀論? 柯文哲:1450還在上班   \n",
       "1      分身?徐正文戴口罩領表中常委選舉 但徐否認參選   \n",
       "2   挪用教育局前線口罩供給身障、老人 市府:中央供給不足   \n",
       "3        巷仔內/醜惡還是光明?從口罩看「真實人性」   \n",
       "4        巷仔內/走過防疫後 蔡政府更該重視兩岸關係   \n",
       "\n",
       "                                                text category  \n",
       "0  沈寂兩天後,台北市長柯文哲今天(6日)上午終於出席公開活動,參與創新便民座談會,並在媒體鏡頭...  politic  \n",
       "1  「湖北武漢台胞返台救援會長」徐正文聯繫武漢台商包機回台引發爭議,徐正文6日出現在國民黨中央黨...  politic  \n",
       "2  中國大陸武漢肺炎疫情持續延燒,中央政府為了妥善規劃口罩供給,從今天(6日)開始在健保指定藥局...  politic  \n",
       "3  武漢肺炎疫情擴散全球,除疫情防治本身的發展外,一場瘟疫映射到人性的本質,是醜惡?還是光明?都...  politic  \n",
       "4  甫贏得總統大選的蔡英文,在第一任期的最後,發生了武漢肺炎這樣的疫情,在一定的程度上,提醒了蔡...  politic  "
      ]
     },
     "execution_count": 24,
     "metadata": {},
     "output_type": "execute_result"
    }
   ],
   "source": [
    "clean.head()"
   ]
  },
  {
   "cell_type": "code",
   "execution_count": 25,
   "metadata": {},
   "outputs": [
    {
     "data": {
      "text/html": [
       "<div>\n",
       "<style scoped>\n",
       "    .dataframe tbody tr th:only-of-type {\n",
       "        vertical-align: middle;\n",
       "    }\n",
       "\n",
       "    .dataframe tbody tr th {\n",
       "        vertical-align: top;\n",
       "    }\n",
       "\n",
       "    .dataframe thead th {\n",
       "        text-align: right;\n",
       "    }\n",
       "</style>\n",
       "<table border=\"1\" class=\"dataframe\">\n",
       "  <thead>\n",
       "    <tr style=\"text-align: right;\">\n",
       "      <th></th>\n",
       "      <th>url</th>\n",
       "      <th>title</th>\n",
       "      <th>text</th>\n",
       "      <th>category</th>\n",
       "    </tr>\n",
       "  </thead>\n",
       "  <tbody>\n",
       "    <tr>\n",
       "      <th>229</th>\n",
       "      <td>https://www.nownews.com/news/20200206/3920120/</td>\n",
       "      <td>NBA/「禿曼巴」成湖人最搶手球員 美媒:多支球隊詢價</td>\n",
       "      <td>洛杉磯湖人25歲的年輕球員Alex Caruso外表像大叔,但體能卻相當勁爆,而且個性隨和、...</td>\n",
       "      <td>sport</td>\n",
       "    </tr>\n",
       "    <tr>\n",
       "      <th>230</th>\n",
       "      <td>https://www.nownews.com/news/20200206/3920156/</td>\n",
       "      <td>NBA/鵜鶘再拉警報!選秀狀元ZION又受傷了</td>\n",
       "      <td>鵜鶘隊菜鳥Zion Williamson再度被放入可能無法上場名單,因為他在前一場對戰公鹿隊...</td>\n",
       "      <td>sport</td>\n",
       "    </tr>\n",
       "    <tr>\n",
       "      <th>231</th>\n",
       "      <td>https://www.nownews.com/news/20200206/3920163/</td>\n",
       "      <td>NBA/網路嘴仗後主動和解 灰熊榜眼:已和柯瑞私聊過了</td>\n",
       "      <td>灰熊榜眼Ja Morant昨天對嗆勇士超級球星Stephen Curry,還直言「我並不怕他...</td>\n",
       "      <td>sport</td>\n",
       "    </tr>\n",
       "    <tr>\n",
       "      <th>232</th>\n",
       "      <td>https://www.nownews.com/news/20200206/3920180/</td>\n",
       "      <td>日職/台灣球界傳奇! 彭政閔前往養樂多擔任研修教練</td>\n",
       "      <td>養養樂多隊今天表示,中信兄弟副領隊彭政閔,從8日開始將擔任研修教練,而這也讓總教練高津臣吾,...</td>\n",
       "      <td>sport</td>\n",
       "    </tr>\n",
       "    <tr>\n",
       "      <th>233</th>\n",
       "      <td>https://www.nownews.com/news/20200206/3920147/</td>\n",
       "      <td>NBA/震驚!傳飆風玫瑰傷辭技術挑戰賽 無緣故鄉獻技</td>\n",
       "      <td>歷經大大小小的傷勢,底特律活塞球星「飆風玫瑰」Derrick Rose(羅斯)復出後屢次有優...</td>\n",
       "      <td>sport</td>\n",
       "    </tr>\n",
       "  </tbody>\n",
       "</table>\n",
       "</div>"
      ],
      "text/plain": [
       "                                                url  \\\n",
       "229  https://www.nownews.com/news/20200206/3920120/   \n",
       "230  https://www.nownews.com/news/20200206/3920156/   \n",
       "231  https://www.nownews.com/news/20200206/3920163/   \n",
       "232  https://www.nownews.com/news/20200206/3920180/   \n",
       "233  https://www.nownews.com/news/20200206/3920147/   \n",
       "\n",
       "                           title  \\\n",
       "229  NBA/「禿曼巴」成湖人最搶手球員 美媒:多支球隊詢價   \n",
       "230      NBA/鵜鶘再拉警報!選秀狀元ZION又受傷了   \n",
       "231  NBA/網路嘴仗後主動和解 灰熊榜眼:已和柯瑞私聊過了   \n",
       "232    日職/台灣球界傳奇! 彭政閔前往養樂多擔任研修教練   \n",
       "233   NBA/震驚!傳飆風玫瑰傷辭技術挑戰賽 無緣故鄉獻技   \n",
       "\n",
       "                                                  text category  \n",
       "229  洛杉磯湖人25歲的年輕球員Alex Caruso外表像大叔,但體能卻相當勁爆,而且個性隨和、...    sport  \n",
       "230  鵜鶘隊菜鳥Zion Williamson再度被放入可能無法上場名單,因為他在前一場對戰公鹿隊...    sport  \n",
       "231  灰熊榜眼Ja Morant昨天對嗆勇士超級球星Stephen Curry,還直言「我並不怕他...    sport  \n",
       "232  養養樂多隊今天表示,中信兄弟副領隊彭政閔,從8日開始將擔任研修教練,而這也讓總教練高津臣吾,...    sport  \n",
       "233  歷經大大小小的傷勢,底特律活塞球星「飆風玫瑰」Derrick Rose(羅斯)復出後屢次有優...    sport  "
      ]
     },
     "execution_count": 25,
     "metadata": {},
     "output_type": "execute_result"
    }
   ],
   "source": [
    "clean.tail()"
   ]
  },
  {
   "cell_type": "code",
   "execution_count": 27,
   "metadata": {
    "ExecuteTime": {
     "end_time": "2020-02-07T09:44:49.734266Z",
     "start_time": "2020-02-07T09:44:49.728103Z"
    }
   },
   "outputs": [],
   "source": [
    "clean.to_json(data/'nownews_clean.json', force_ascii=False)"
   ]
  },
  {
   "cell_type": "code",
   "execution_count": null,
   "metadata": {},
   "outputs": [],
   "source": []
  }
 ],
 "metadata": {
  "kernelspec": {
   "display_name": "Python 3",
   "language": "python",
   "name": "python3"
  },
  "language_info": {
   "codemirror_mode": {
    "name": "ipython",
    "version": 3
   },
   "file_extension": ".py",
   "mimetype": "text/x-python",
   "name": "python",
   "nbconvert_exporter": "python",
   "pygments_lexer": "ipython3",
   "version": "3.7.5"
  }
 },
 "nbformat": 4,
 "nbformat_minor": 2
}
