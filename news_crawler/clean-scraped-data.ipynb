{
 "cells": [
  {
   "cell_type": "code",
   "execution_count": 1,
   "metadata": {
    "ExecuteTime": {
     "end_time": "2020-02-07T09:18:09.036912Z",
     "start_time": "2020-02-07T09:18:08.719690Z"
    }
   },
   "outputs": [],
   "source": [
    "import pandas as pd"
   ]
  },
  {
   "cell_type": "code",
   "execution_count": 2,
   "metadata": {
    "ExecuteTime": {
     "end_time": "2020-02-07T09:18:39.247522Z",
     "start_time": "2020-02-07T09:18:39.243881Z"
    }
   },
   "outputs": [],
   "source": [
    "raw = pd.read_pickle('./news/all_cat.pkl')"
   ]
  },
  {
   "cell_type": "code",
   "execution_count": 3,
   "metadata": {
    "ExecuteTime": {
     "end_time": "2020-02-07T09:19:03.748288Z",
     "start_time": "2020-02-07T09:19:03.736682Z"
    },
    "scrolled": true
   },
   "outputs": [
    {
     "data": {
      "text/html": [
       "<div>\n",
       "<style scoped>\n",
       "    .dataframe tbody tr th:only-of-type {\n",
       "        vertical-align: middle;\n",
       "    }\n",
       "\n",
       "    .dataframe tbody tr th {\n",
       "        vertical-align: top;\n",
       "    }\n",
       "\n",
       "    .dataframe thead th {\n",
       "        text-align: right;\n",
       "    }\n",
       "</style>\n",
       "<table border=\"1\" class=\"dataframe\">\n",
       "  <thead>\n",
       "    <tr style=\"text-align: right;\">\n",
       "      <th></th>\n",
       "      <th>url</th>\n",
       "      <th>title</th>\n",
       "      <th>text</th>\n",
       "      <th>category</th>\n",
       "    </tr>\n",
       "  </thead>\n",
       "  <tbody>\n",
       "    <tr>\n",
       "      <th>0</th>\n",
       "      <td>https://www.nownews.com/news/20200206/3920818/</td>\n",
       "      <td>&lt;h1 class=\"entry-title\"&gt;NBA／勇士啟動交易　送走2球員換得3個次輪...</td>\n",
       "      <td>&lt;p&gt;金州勇士趕在交易截止日前完成和費城76人的球員及選秀權互換，根據《the Athlet...</td>\n",
       "      <td>sport</td>\n",
       "    </tr>\n",
       "    <tr>\n",
       "      <th>1</th>\n",
       "      <td>https://www.nownews.com/news/20200207/3922359/</td>\n",
       "      <td>&lt;h1 class=\"entry-title\"&gt;中職／四連霸樂天桃猿出發！打擊王林立領軍出征...</td>\n",
       "      <td>&lt;p&gt;接手Lamigo桃猿隊的Rakuten Monkeys，今天出發從桃園機場飛往日本石垣...</td>\n",
       "      <td>sport</td>\n",
       "    </tr>\n",
       "    <tr>\n",
       "      <th>2</th>\n",
       "      <td>https://www.nownews.com/news/20200207/3920117/</td>\n",
       "      <td>&lt;h1 class=\"entry-title\"&gt;SBL／洋將登錄規範差很大  業餘職業不同調...</td>\n",
       "      <td>&lt;p&gt;中華男籃的集訓備戰如火如荼進行中，不過洋將歸化的議題目前仍然八字未有一撇，先前曾傳出有...</td>\n",
       "      <td>sport</td>\n",
       "    </tr>\n",
       "    <tr>\n",
       "      <th>3</th>\n",
       "      <td>https://www.nownews.com/news/20200206/3920230/</td>\n",
       "      <td>&lt;h1 class=\"entry-title\"&gt;NBA／搶下伊古達拉只是第一步　熱火明夏將爭...</td>\n",
       "      <td>&lt;p&gt;邁阿密熱火和曼非斯灰熊正處於Andre Iguodala交易的最終階段，根據《The ...</td>\n",
       "      <td>sport</td>\n",
       "    </tr>\n",
       "    <tr>\n",
       "      <th>4</th>\n",
       "      <td>https://www.nownews.com/news/20200206/3920333/</td>\n",
       "      <td>&lt;h1 class=\"entry-title\"&gt;中職／石垣島前完成談薪　樂天和4將簽複數年合...</td>\n",
       "      <td>&lt;p&gt;Rakuten Monkeys為多名選手規劃複數約，陳俊秀、黃子鵬、郭嚴文及林立皆獲得...</td>\n",
       "      <td>sport</td>\n",
       "    </tr>\n",
       "  </tbody>\n",
       "</table>\n",
       "</div>"
      ],
      "text/plain": [
       "                                              url  \\\n",
       "0  https://www.nownews.com/news/20200206/3920818/   \n",
       "1  https://www.nownews.com/news/20200207/3922359/   \n",
       "2  https://www.nownews.com/news/20200207/3920117/   \n",
       "3  https://www.nownews.com/news/20200206/3920230/   \n",
       "4  https://www.nownews.com/news/20200206/3920333/   \n",
       "\n",
       "                                               title  \\\n",
       "0  <h1 class=\"entry-title\">NBA／勇士啟動交易　送走2球員換得3個次輪...   \n",
       "1  <h1 class=\"entry-title\">中職／四連霸樂天桃猿出發！打擊王林立領軍出征...   \n",
       "2  <h1 class=\"entry-title\">SBL／洋將登錄規範差很大  業餘職業不同調...   \n",
       "3  <h1 class=\"entry-title\">NBA／搶下伊古達拉只是第一步　熱火明夏將爭...   \n",
       "4  <h1 class=\"entry-title\">中職／石垣島前完成談薪　樂天和4將簽複數年合...   \n",
       "\n",
       "                                                text category  \n",
       "0  <p>金州勇士趕在交易截止日前完成和費城76人的球員及選秀權互換，根據《the Athlet...    sport  \n",
       "1  <p>接手Lamigo桃猿隊的Rakuten Monkeys，今天出發從桃園機場飛往日本石垣...    sport  \n",
       "2  <p>中華男籃的集訓備戰如火如荼進行中，不過洋將歸化的議題目前仍然八字未有一撇，先前曾傳出有...    sport  \n",
       "3  <p>邁阿密熱火和曼非斯灰熊正處於Andre Iguodala交易的最終階段，根據《The ...    sport  \n",
       "4  <p>Rakuten Monkeys為多名選手規劃複數約，陳俊秀、黃子鵬、郭嚴文及林立皆獲得...    sport  "
      ]
     },
     "execution_count": 3,
     "metadata": {},
     "output_type": "execute_result"
    }
   ],
   "source": [
    "raw.head()"
   ]
  },
  {
   "cell_type": "code",
   "execution_count": 4,
   "metadata": {
    "ExecuteTime": {
     "end_time": "2020-02-07T09:19:09.198338Z",
     "start_time": "2020-02-07T09:19:09.191838Z"
    }
   },
   "outputs": [
    {
     "data": {
      "text/html": [
       "<div>\n",
       "<style scoped>\n",
       "    .dataframe tbody tr th:only-of-type {\n",
       "        vertical-align: middle;\n",
       "    }\n",
       "\n",
       "    .dataframe tbody tr th {\n",
       "        vertical-align: top;\n",
       "    }\n",
       "\n",
       "    .dataframe thead th {\n",
       "        text-align: right;\n",
       "    }\n",
       "</style>\n",
       "<table border=\"1\" class=\"dataframe\">\n",
       "  <thead>\n",
       "    <tr style=\"text-align: right;\">\n",
       "      <th></th>\n",
       "      <th>url</th>\n",
       "      <th>title</th>\n",
       "      <th>text</th>\n",
       "      <th>category</th>\n",
       "    </tr>\n",
       "  </thead>\n",
       "  <tbody>\n",
       "    <tr>\n",
       "      <th>229</th>\n",
       "      <td>https://www.nownews.com/news/20200203/3914522/</td>\n",
       "      <td>&lt;h1 class=\"entry-title\"&gt;人民幣貶破7　台幣收30.332元貶8.2分...</td>\n",
       "      <td>&lt;p&gt;武漢肺炎擴散全球，中國大陸股、匯市今（3）日開市重挫，在岸及離岸人民幣兌美元更貶破7元...</td>\n",
       "      <td>finance</td>\n",
       "    </tr>\n",
       "    <tr>\n",
       "      <th>230</th>\n",
       "      <td>https://www.nownews.com/news/20200203/3911032/</td>\n",
       "      <td>&lt;h1 class=\"entry-title\"&gt;大陸螞蟻雄兵進逼！ARM跨足物聯網　揪台廠打...</td>\n",
       "      <td>&lt;p&gt;大陸RISC-V陣營急於在物聯網市場，超車IP龍頭安謀（ARM）， 這一次，安謀端出物...</td>\n",
       "      <td>finance</td>\n",
       "    </tr>\n",
       "    <tr>\n",
       "      <th>231</th>\n",
       "      <td>https://www.nownews.com/news/20200203/3915111/</td>\n",
       "      <td>&lt;h1 class=\"entry-title\"&gt;為防堵武漢肺炎共同努力　台積電防疫照顧假給半...</td>\n",
       "      <td>&lt;p&gt;為因應武漢肺炎的防疫，台積電今（3）日也通知公司幼兒園家長，將比照公立幼兒園，自明（4...</td>\n",
       "      <td>finance</td>\n",
       "    </tr>\n",
       "    <tr>\n",
       "      <th>232</th>\n",
       "      <td>https://www.nownews.com/news/20200203/3915131/</td>\n",
       "      <td>&lt;h1 class=\"entry-title\"&gt;武漢肺炎保險賠不賠？先看法定傳染病是否列除外...</td>\n",
       "      <td>&lt;p&gt;武漢肺炎擴散，國人除關心疫情最新發展及如何防疫之外，最想知道就是哪些保險項目有理賠？壽...</td>\n",
       "      <td>finance</td>\n",
       "    </tr>\n",
       "    <tr>\n",
       "      <th>233</th>\n",
       "      <td>https://www.nownews.com/news/20200203/3911021/</td>\n",
       "      <td>&lt;h1 class=\"entry-title\"&gt;晶圓代工廠插足高階封測　傳統封測廠向下踩EM...</td>\n",
       "      <td>&lt;p&gt;由於台積電、三星等晶圓代工業者紛紛發展自己的高階封裝技術，傳統的第三方封測業者， 在成...</td>\n",
       "      <td>finance</td>\n",
       "    </tr>\n",
       "  </tbody>\n",
       "</table>\n",
       "</div>"
      ],
      "text/plain": [
       "                                                url  \\\n",
       "229  https://www.nownews.com/news/20200203/3914522/   \n",
       "230  https://www.nownews.com/news/20200203/3911032/   \n",
       "231  https://www.nownews.com/news/20200203/3915111/   \n",
       "232  https://www.nownews.com/news/20200203/3915131/   \n",
       "233  https://www.nownews.com/news/20200203/3911021/   \n",
       "\n",
       "                                                 title  \\\n",
       "229  <h1 class=\"entry-title\">人民幣貶破7　台幣收30.332元貶8.2分...   \n",
       "230  <h1 class=\"entry-title\">大陸螞蟻雄兵進逼！ARM跨足物聯網　揪台廠打...   \n",
       "231  <h1 class=\"entry-title\">為防堵武漢肺炎共同努力　台積電防疫照顧假給半...   \n",
       "232  <h1 class=\"entry-title\">武漢肺炎保險賠不賠？先看法定傳染病是否列除外...   \n",
       "233  <h1 class=\"entry-title\">晶圓代工廠插足高階封測　傳統封測廠向下踩EM...   \n",
       "\n",
       "                                                  text category  \n",
       "229  <p>武漢肺炎擴散全球，中國大陸股、匯市今（3）日開市重挫，在岸及離岸人民幣兌美元更貶破7元...  finance  \n",
       "230  <p>大陸RISC-V陣營急於在物聯網市場，超車IP龍頭安謀（ARM）， 這一次，安謀端出物...  finance  \n",
       "231  <p>為因應武漢肺炎的防疫，台積電今（3）日也通知公司幼兒園家長，將比照公立幼兒園，自明（4...  finance  \n",
       "232  <p>武漢肺炎擴散，國人除關心疫情最新發展及如何防疫之外，最想知道就是哪些保險項目有理賠？壽...  finance  \n",
       "233  <p>由於台積電、三星等晶圓代工業者紛紛發展自己的高階封裝技術，傳統的第三方封測業者， 在成...  finance  "
      ]
     },
     "execution_count": 4,
     "metadata": {},
     "output_type": "execute_result"
    }
   ],
   "source": [
    "raw.tail()"
   ]
  },
  {
   "cell_type": "markdown",
   "metadata": {},
   "source": [
    "### Remove html elements"
   ]
  },
  {
   "cell_type": "code",
   "execution_count": null,
   "metadata": {},
   "outputs": [],
   "source": [
    "raw.title.str.replace()"
   ]
  },
  {
   "cell_type": "code",
   "execution_count": 25,
   "metadata": {
    "ExecuteTime": {
     "end_time": "2020-02-07T09:31:01.775370Z",
     "start_time": "2020-02-07T09:31:01.770652Z"
    }
   },
   "outputs": [
    {
     "data": {
      "text/plain": [
       "0        NBA/勇士啟動交易 送走2球員換得3個次輪籤\n",
       "1      中職/四連霸樂天桃猿出發!打擊王林立領軍出征石垣島\n",
       "2         SBL/洋將登錄規範差很大  業餘職業不同調\n",
       "3    NBA/搶下伊古達拉只是第一步 熱火明夏將爭取大牌球星\n",
       "4        中職/石垣島前完成談薪 樂天和4將簽複數年合約\n",
       "Name: title, dtype: object"
      ]
     },
     "execution_count": 25,
     "metadata": {},
     "output_type": "execute_result"
    }
   ],
   "source": [
    "raw.title[:5].str.normalize('NFKC').str.replace('<[^>]*>', '').str.strip()"
   ]
  },
  {
   "cell_type": "code",
   "execution_count": 28,
   "metadata": {
    "ExecuteTime": {
     "end_time": "2020-02-07T09:34:00.188947Z",
     "start_time": "2020-02-07T09:34:00.184391Z"
    },
    "scrolled": true
   },
   "outputs": [
    {
     "data": {
      "text/plain": [
       "'NBA/勇士啟動交易 送走2球員換得3個次輪籤'"
      ]
     },
     "execution_count": 28,
     "metadata": {},
     "output_type": "execute_result"
    }
   ],
   "source": [
    "raw.title[:2].str.replace('<[^>]*>', '').str.normalize('NFKC')[0]"
   ]
  },
  {
   "cell_type": "code",
   "execution_count": null,
   "metadata": {},
   "outputs": [],
   "source": []
  },
  {
   "cell_type": "code",
   "execution_count": 32,
   "metadata": {
    "ExecuteTime": {
     "end_time": "2020-02-07T09:35:57.177531Z",
     "start_time": "2020-02-07T09:35:57.174874Z"
    }
   },
   "outputs": [],
   "source": [
    "clean = pd.DataFrame()"
   ]
  },
  {
   "cell_type": "code",
   "execution_count": 33,
   "metadata": {
    "ExecuteTime": {
     "end_time": "2020-02-07T09:35:57.657600Z",
     "start_time": "2020-02-07T09:35:57.654501Z"
    }
   },
   "outputs": [],
   "source": [
    "clean['url'] = raw.url"
   ]
  },
  {
   "cell_type": "code",
   "execution_count": 34,
   "metadata": {
    "ExecuteTime": {
     "end_time": "2020-02-07T09:35:58.106957Z",
     "start_time": "2020-02-07T09:35:58.102268Z"
    }
   },
   "outputs": [],
   "source": [
    "clean['title'] = raw.title.str.replace('<[^>]*>', '').str.normalize('NFKC')"
   ]
  },
  {
   "cell_type": "code",
   "execution_count": 35,
   "metadata": {
    "ExecuteTime": {
     "end_time": "2020-02-07T09:35:58.588335Z",
     "start_time": "2020-02-07T09:35:58.568452Z"
    }
   },
   "outputs": [],
   "source": [
    "clean['text'] = raw.text.str.replace('<[^>]*>', '').str.normalize('NFKC')"
   ]
  },
  {
   "cell_type": "code",
   "execution_count": 36,
   "metadata": {
    "ExecuteTime": {
     "end_time": "2020-02-07T09:36:08.652336Z",
     "start_time": "2020-02-07T09:36:08.648068Z"
    }
   },
   "outputs": [],
   "source": [
    "clean['category'] = raw.category"
   ]
  },
  {
   "cell_type": "code",
   "execution_count": 37,
   "metadata": {
    "ExecuteTime": {
     "end_time": "2020-02-07T09:36:10.464166Z",
     "start_time": "2020-02-07T09:36:10.455366Z"
    }
   },
   "outputs": [
    {
     "data": {
      "text/html": [
       "<div>\n",
       "<style scoped>\n",
       "    .dataframe tbody tr th:only-of-type {\n",
       "        vertical-align: middle;\n",
       "    }\n",
       "\n",
       "    .dataframe tbody tr th {\n",
       "        vertical-align: top;\n",
       "    }\n",
       "\n",
       "    .dataframe thead th {\n",
       "        text-align: right;\n",
       "    }\n",
       "</style>\n",
       "<table border=\"1\" class=\"dataframe\">\n",
       "  <thead>\n",
       "    <tr style=\"text-align: right;\">\n",
       "      <th></th>\n",
       "      <th>url</th>\n",
       "      <th>title</th>\n",
       "      <th>text</th>\n",
       "      <th>category</th>\n",
       "    </tr>\n",
       "  </thead>\n",
       "  <tbody>\n",
       "    <tr>\n",
       "      <th>0</th>\n",
       "      <td>https://www.nownews.com/news/20200206/3920818/</td>\n",
       "      <td>NBA/勇士啟動交易 送走2球員換得3個次輪籤</td>\n",
       "      <td>金州勇士趕在交易截止日前完成和費城76人的球員及選秀權互換,根據《the Athletic》...</td>\n",
       "      <td>sport</td>\n",
       "    </tr>\n",
       "    <tr>\n",
       "      <th>1</th>\n",
       "      <td>https://www.nownews.com/news/20200207/3922359/</td>\n",
       "      <td>中職/四連霸樂天桃猿出發!打擊王林立領軍出征石垣島</td>\n",
       "      <td>接手Lamigo桃猿隊的Rakuten Monkeys,今天出發從桃園機場飛往日本石垣島,將...</td>\n",
       "      <td>sport</td>\n",
       "    </tr>\n",
       "    <tr>\n",
       "      <th>2</th>\n",
       "      <td>https://www.nownews.com/news/20200207/3920117/</td>\n",
       "      <td>SBL/洋將登錄規範差很大  業餘職業不同調</td>\n",
       "      <td>中華男籃的集訓備戰如火如荼進行中,不過洋將歸化的議題目前仍然八字未有一撇,先前曾傳出有意安排...</td>\n",
       "      <td>sport</td>\n",
       "    </tr>\n",
       "    <tr>\n",
       "      <th>3</th>\n",
       "      <td>https://www.nownews.com/news/20200206/3920230/</td>\n",
       "      <td>NBA/搶下伊古達拉只是第一步 熱火明夏將爭取大牌球星</td>\n",
       "      <td>邁阿密熱火和曼非斯灰熊正處於Andre Iguodala交易的最終階段,根據《The Ath...</td>\n",
       "      <td>sport</td>\n",
       "    </tr>\n",
       "    <tr>\n",
       "      <th>4</th>\n",
       "      <td>https://www.nownews.com/news/20200206/3920333/</td>\n",
       "      <td>中職/石垣島前完成談薪 樂天和4將簽複數年合約</td>\n",
       "      <td>Rakuten Monkeys為多名選手規劃複數約,陳俊秀、黃子鵬、郭嚴文及林立皆獲得複數約...</td>\n",
       "      <td>sport</td>\n",
       "    </tr>\n",
       "    <tr>\n",
       "      <th>...</th>\n",
       "      <td>...</td>\n",
       "      <td>...</td>\n",
       "      <td>...</td>\n",
       "      <td>...</td>\n",
       "    </tr>\n",
       "    <tr>\n",
       "      <th>229</th>\n",
       "      <td>https://www.nownews.com/news/20200203/3914522/</td>\n",
       "      <td>人民幣貶破7 台幣收30.332元貶8.2分 逾1個半月新低價</td>\n",
       "      <td>武漢肺炎擴散全球,中國大陸股、匯市今(3)日開市重挫,在岸及離岸人民幣兌美元更貶破7元大關,...</td>\n",
       "      <td>finance</td>\n",
       "    </tr>\n",
       "    <tr>\n",
       "      <th>230</th>\n",
       "      <td>https://www.nownews.com/news/20200203/3911032/</td>\n",
       "      <td>大陸螞蟻雄兵進逼!ARM跨足物聯網 揪台廠打團體戰</td>\n",
       "      <td>大陸RISC-V陣營急於在物聯網市場,超車IP龍頭安謀(ARM), 這一次,安謀端出物聯網平...</td>\n",
       "      <td>finance</td>\n",
       "    </tr>\n",
       "    <tr>\n",
       "      <th>231</th>\n",
       "      <td>https://www.nownews.com/news/20200203/3915111/</td>\n",
       "      <td>為防堵武漢肺炎共同努力 台積電防疫照顧假給半薪</td>\n",
       "      <td>為因應武漢肺炎的防疫,台積電今(3)日也通知公司幼兒園家長,將比照公立幼兒園,自明(4)日至...</td>\n",
       "      <td>finance</td>\n",
       "    </tr>\n",
       "    <tr>\n",
       "      <th>232</th>\n",
       "      <td>https://www.nownews.com/news/20200203/3915131/</td>\n",
       "      <td>武漢肺炎保險賠不賠?先看法定傳染病是否列除外不保事項</td>\n",
       "      <td>武漢肺炎擴散,國人除關心疫情最新發展及如何防疫之外,最想知道就是哪些保險項目有理賠?壽險業者...</td>\n",
       "      <td>finance</td>\n",
       "    </tr>\n",
       "    <tr>\n",
       "      <th>233</th>\n",
       "      <td>https://www.nownews.com/news/20200203/3911021/</td>\n",
       "      <td>晶圓代工廠插足高階封測 傳統封測廠向下踩EMS地盤</td>\n",
       "      <td>由於台積電、三星等晶圓代工業者紛紛發展自己的高階封裝技術,傳統的第三方封測業者, 在成本或技...</td>\n",
       "      <td>finance</td>\n",
       "    </tr>\n",
       "  </tbody>\n",
       "</table>\n",
       "<p>234 rows × 4 columns</p>\n",
       "</div>"
      ],
      "text/plain": [
       "                                                url  \\\n",
       "0    https://www.nownews.com/news/20200206/3920818/   \n",
       "1    https://www.nownews.com/news/20200207/3922359/   \n",
       "2    https://www.nownews.com/news/20200207/3920117/   \n",
       "3    https://www.nownews.com/news/20200206/3920230/   \n",
       "4    https://www.nownews.com/news/20200206/3920333/   \n",
       "..                                              ...   \n",
       "229  https://www.nownews.com/news/20200203/3914522/   \n",
       "230  https://www.nownews.com/news/20200203/3911032/   \n",
       "231  https://www.nownews.com/news/20200203/3915111/   \n",
       "232  https://www.nownews.com/news/20200203/3915131/   \n",
       "233  https://www.nownews.com/news/20200203/3911021/   \n",
       "\n",
       "                               title  \\\n",
       "0            NBA/勇士啟動交易 送走2球員換得3個次輪籤   \n",
       "1          中職/四連霸樂天桃猿出發!打擊王林立領軍出征石垣島   \n",
       "2             SBL/洋將登錄規範差很大  業餘職業不同調   \n",
       "3        NBA/搶下伊古達拉只是第一步 熱火明夏將爭取大牌球星   \n",
       "4            中職/石垣島前完成談薪 樂天和4將簽複數年合約   \n",
       "..                               ...   \n",
       "229  人民幣貶破7 台幣收30.332元貶8.2分 逾1個半月新低價   \n",
       "230        大陸螞蟻雄兵進逼!ARM跨足物聯網 揪台廠打團體戰   \n",
       "231          為防堵武漢肺炎共同努力 台積電防疫照顧假給半薪   \n",
       "232       武漢肺炎保險賠不賠?先看法定傳染病是否列除外不保事項   \n",
       "233        晶圓代工廠插足高階封測 傳統封測廠向下踩EMS地盤   \n",
       "\n",
       "                                                  text category  \n",
       "0    金州勇士趕在交易截止日前完成和費城76人的球員及選秀權互換,根據《the Athletic》...    sport  \n",
       "1    接手Lamigo桃猿隊的Rakuten Monkeys,今天出發從桃園機場飛往日本石垣島,將...    sport  \n",
       "2    中華男籃的集訓備戰如火如荼進行中,不過洋將歸化的議題目前仍然八字未有一撇,先前曾傳出有意安排...    sport  \n",
       "3    邁阿密熱火和曼非斯灰熊正處於Andre Iguodala交易的最終階段,根據《The Ath...    sport  \n",
       "4    Rakuten Monkeys為多名選手規劃複數約,陳俊秀、黃子鵬、郭嚴文及林立皆獲得複數約...    sport  \n",
       "..                                                 ...      ...  \n",
       "229  武漢肺炎擴散全球,中國大陸股、匯市今(3)日開市重挫,在岸及離岸人民幣兌美元更貶破7元大關,...  finance  \n",
       "230  大陸RISC-V陣營急於在物聯網市場,超車IP龍頭安謀(ARM), 這一次,安謀端出物聯網平...  finance  \n",
       "231  為因應武漢肺炎的防疫,台積電今(3)日也通知公司幼兒園家長,將比照公立幼兒園,自明(4)日至...  finance  \n",
       "232  武漢肺炎擴散,國人除關心疫情最新發展及如何防疫之外,最想知道就是哪些保險項目有理賠?壽險業者...  finance  \n",
       "233  由於台積電、三星等晶圓代工業者紛紛發展自己的高階封裝技術,傳統的第三方封測業者, 在成本或技...  finance  \n",
       "\n",
       "[234 rows x 4 columns]"
      ]
     },
     "execution_count": 37,
     "metadata": {},
     "output_type": "execute_result"
    }
   ],
   "source": [
    "clean"
   ]
  },
  {
   "cell_type": "code",
   "execution_count": 63,
   "metadata": {
    "ExecuteTime": {
     "end_time": "2020-02-07T09:48:46.832592Z",
     "start_time": "2020-02-07T09:48:46.828516Z"
    },
    "scrolled": true
   },
   "outputs": [
    {
     "data": {
      "text/plain": [
       "125      -1\n",
       "126    1000\n",
       "127      -1\n",
       "128      -1\n",
       "129    2320\n",
       "130      -1\n",
       "131      -1\n",
       "132      -1\n",
       "133      -1\n",
       "134      -1\n",
       "135      -1\n",
       "136     784\n",
       "137      -1\n",
       "138      -1\n",
       "139      -1\n",
       "140      -1\n",
       "141      -1\n",
       "142      -1\n",
       "143      -1\n",
       "144      -1\n",
       "145      -1\n",
       "146      -1\n",
       "147      -1\n",
       "148      -1\n",
       "149      -1\n",
       "Name: text, dtype: int64"
      ]
     },
     "execution_count": 63,
     "metadata": {},
     "output_type": "execute_result"
    }
   ],
   "source": [
    "clean['text'][125:150].str.find('www')"
   ]
  },
  {
   "cell_type": "code",
   "execution_count": 64,
   "metadata": {
    "ExecuteTime": {
     "end_time": "2020-02-07T09:49:00.849635Z",
     "start_time": "2020-02-07T09:49:00.846594Z"
    },
    "scrolled": false
   },
   "outputs": [
    {
     "data": {
      "text/plain": [
       "'「湖北武漢台胞返台救援會長」徐正文居間聯繫武漢台商返台,但首批台商包機返台,出現一名武漢肺炎確診病例,加上包機中疑似有許多非台籍乘客,引發外界質疑;在國民黨中央公開切割徐正文之後,國民黨內陸續有人質疑徐正文的身分。台中市議員黃建豪表示,「他自封為湖北台灣同胞返台救援會會長,這才又讓我想到之前的事,他總是自封自己是什麼版主、會長,但是他待過湖北嗎?」、「真正的問題是,徐正文扮演什麼角色,為什麼是他提撤離名單?為什麼他可以替換掉陸委會的名單?」、「國民黨的社會聲望,就是一而再、再而三,被某些游走兩岸買空賣空的黨政人士搞爛」、「以我個人的人格和經驗擔保,徐正文真的不代表國民黨」。★以下是黃建豪的臉書:武漢返台包機的事,滿城風雨。講一個國民黨內發生在自己身上的小事件。中央委員們有一個群組,我忘記是什麼事件,總之有一次幾個中央委員在群組裡批判了徐正文幾句,然後徐正文就把那些人退出群組了。然後,我也把他退群。後來他很生氣,一直強調他是那個群的版主,所以等他找人把他加回群之後,就把我退出了。那陣子,他經常在我的貼文或回文下留言,要我給他一個說法,我倒是沒什麼可說的。—關於武漢返台包機上,有陸配的事,我個人覺得不是什麼問題,陸配也是人,會成為陸配也是嫁給了台灣人,所以是不應該對「個人」殺紅眼。真正的問題是,徐正文扮演什麼角色,為什麼是他提撤離名單?為什麼是他受訪?為什麼他可以替換掉陸委會的名單?最奇怪的是,他自封為湖北台灣同胞返台救援會會長,這才又讓我想到之前的事,他總是自封自己是什麼版主、會長,但是他待過湖北嗎?—值此關鍵時局,不管是視同作戰的防疫工作,還是正努力要改造的國民黨,都不該容忍這種事。黨中央算明快,馬上公告徐正文先生的行為不代表國民黨,而且我也以我個人的人格和經驗擔保,徐正文真的不代表國民黨。不能再鄉愿了,國民黨的社會聲望,就是一而再、再而三被某些游走兩岸買空賣空的黨政人士搞爛,好好的公義之事,在他們手上都會被毀滅。徐正文真的欠社會一個交代。—陸委會也好,七人小組也罷,這個時候真的也不是對內分藍綠的時候,如果兩黨過去這段時間,以及台商協會,真的能合作與中共談妥第一架包機返台,希望能盡速安排第二架包機,把人接回來。很多網友說,徐正文把感染者弄上飛機是罪人,我倒覺得,徐正文這樣一直開記者會,搞到各方尷尬,從此沒包機載人回來,才真的是千古罪人!黃建豪臉書: https://www.facebook.com/garyh0613'"
      ]
     },
     "execution_count": 64,
     "metadata": {},
     "output_type": "execute_result"
    }
   ],
   "source": [
    "clean['text'][126]"
   ]
  },
  {
   "cell_type": "code",
   "execution_count": 58,
   "metadata": {
    "ExecuteTime": {
     "end_time": "2020-02-07T09:44:49.734266Z",
     "start_time": "2020-02-07T09:44:49.728103Z"
    }
   },
   "outputs": [],
   "source": [
    "clean.to_json('./news/all_cat_clean.json', force_ascii=False)\n",
    "clean.to_pickle('./news/all_cat_clean.pkl')"
   ]
  },
  {
   "cell_type": "code",
   "execution_count": null,
   "metadata": {},
   "outputs": [],
   "source": []
  }
 ],
 "metadata": {
  "kernelspec": {
   "display_name": "Python 3",
   "language": "python",
   "name": "python3"
  },
  "language_info": {
   "codemirror_mode": {
    "name": "ipython",
    "version": 3
   },
   "file_extension": ".py",
   "mimetype": "text/x-python",
   "name": "python",
   "nbconvert_exporter": "python",
   "pygments_lexer": "ipython3",
   "version": "3.7.5"
  }
 },
 "nbformat": 4,
 "nbformat_minor": 2
}
