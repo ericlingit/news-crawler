{
 "cells": [
  {
   "cell_type": "code",
   "execution_count": 1,
   "metadata": {},
   "outputs": [],
   "source": [
    "import json\n",
    "import pandas as pd\n",
    "from pathlib import Path"
   ]
  },
  {
   "cell_type": "code",
   "execution_count": 2,
   "metadata": {},
   "outputs": [],
   "source": [
    "src = Path('./output/wantwant-raw')"
   ]
  },
  {
   "cell_type": "code",
   "execution_count": 3,
   "metadata": {},
   "outputs": [],
   "source": [
    "x = pd.DataFrame()\n",
    "\n",
    "for fi in src.iterdir():\n",
    "    with open(fi) as f:\n",
    "        j = json.load(f)\n",
    "    x = x.append(j, ignore_index=True)"
   ]
  },
  {
   "cell_type": "code",
   "execution_count": 5,
   "metadata": {},
   "outputs": [],
   "source": [
    "x.to_json('./output/wantwant.json')"
   ]
  },
  {
   "cell_type": "code",
   "execution_count": 6,
   "metadata": {},
   "outputs": [
    {
     "data": {
      "text/html": [
       "<div>\n",
       "<style scoped>\n",
       "    .dataframe tbody tr th:only-of-type {\n",
       "        vertical-align: middle;\n",
       "    }\n",
       "\n",
       "    .dataframe tbody tr th {\n",
       "        vertical-align: top;\n",
       "    }\n",
       "\n",
       "    .dataframe thead th {\n",
       "        text-align: right;\n",
       "    }\n",
       "</style>\n",
       "<table border=\"1\" class=\"dataframe\">\n",
       "  <thead>\n",
       "    <tr style=\"text-align: right;\">\n",
       "      <th></th>\n",
       "      <th>date</th>\n",
       "      <th>text</th>\n",
       "      <th>title</th>\n",
       "      <th>url</th>\n",
       "    </tr>\n",
       "  </thead>\n",
       "  <tbody>\n",
       "    <tr>\n",
       "      <th>0</th>\n",
       "      <td>2019-08-28 13:52</td>\n",
       "      <td>&lt;p&gt;國民黨總統參選人、高雄市長韓國瑜近來民調下滑，更傳出「換瑜」聲浪。對此，台灣民意基金會...</td>\n",
       "      <td>&lt;h1 class=\"article-title\"&gt;國民黨若「換瑜」 他斷言：災難恐沒完沒了...</td>\n",
       "      <td>https://www.chinatimes.com/realtimenews/201908...</td>\n",
       "    </tr>\n",
       "    <tr>\n",
       "      <th>1</th>\n",
       "      <td>2019-09-30 17:29</td>\n",
       "      <td>&lt;p&gt;依據旺旺中時9月26日公布的2020總統大選民調，蔡英文總統以39.1％支持度領先國民...</td>\n",
       "      <td>&lt;h1 class=\"article-title\"&gt;【旺董 - 蔡衍明 Q＆A 9】 網友希...</td>\n",
       "      <td>https://www.chinatimes.com/realtimenews/201909...</td>\n",
       "    </tr>\n",
       "    <tr>\n",
       "      <th>2</th>\n",
       "      <td>2019-04-23 17:10</td>\n",
       "      <td>&lt;p&gt;高雄市長韓國瑜發出五點聲明不參加「現行制度初選」，對此，國民黨主席吳敦義與前總統馬英九...</td>\n",
       "      <td>&lt;h1 class=\"article-title\"&gt;韓國瑜五點聲明 吳敦義回應了&lt;/h1&gt;</td>\n",
       "      <td>https://www.chinatimes.com/realtimenews/201904...</td>\n",
       "    </tr>\n",
       "    <tr>\n",
       "      <th>3</th>\n",
       "      <td>2019-01-26 07:56</td>\n",
       "      <td>&lt;p&gt;高雄市長韓國瑜氣勢正盛，外界甚至關注韓的下一步是否會參選2020？對此，台北市議員李明...</td>\n",
       "      <td>&lt;h1 class=\"article-title\"&gt;後悔投韓國瑜！李明賢直言那些人心態是…....</td>\n",
       "      <td>https://www.chinatimes.com/realtimenews/201901...</td>\n",
       "    </tr>\n",
       "    <tr>\n",
       "      <th>4</th>\n",
       "      <td>2019-11-03 15:09</td>\n",
       "      <td>&lt;p&gt;台大批踢踢實業坊(簡稱PTT)10月起陸續清除異常帳號。據統計，自10月7日起至11月...</td>\n",
       "      <td>&lt;h1 class=\"article-title\"&gt;震撼！PTT大砍網軍帳號  上千挺英戰士...</td>\n",
       "      <td>https://www.chinatimes.com/realtimenews/201911...</td>\n",
       "    </tr>\n",
       "  </tbody>\n",
       "</table>\n",
       "</div>"
      ],
      "text/plain": [
       "               date                                               text  \\\n",
       "0  2019-08-28 13:52  <p>國民黨總統參選人、高雄市長韓國瑜近來民調下滑，更傳出「換瑜」聲浪。對此，台灣民意基金會...   \n",
       "1  2019-09-30 17:29  <p>依據旺旺中時9月26日公布的2020總統大選民調，蔡英文總統以39.1％支持度領先國民...   \n",
       "2  2019-04-23 17:10  <p>高雄市長韓國瑜發出五點聲明不參加「現行制度初選」，對此，國民黨主席吳敦義與前總統馬英九...   \n",
       "3  2019-01-26 07:56  <p>高雄市長韓國瑜氣勢正盛，外界甚至關注韓的下一步是否會參選2020？對此，台北市議員李明...   \n",
       "4  2019-11-03 15:09  <p>台大批踢踢實業坊(簡稱PTT)10月起陸續清除異常帳號。據統計，自10月7日起至11月...   \n",
       "\n",
       "                                               title  \\\n",
       "0  <h1 class=\"article-title\">國民黨若「換瑜」 他斷言：災難恐沒完沒了...   \n",
       "1  <h1 class=\"article-title\">【旺董 - 蔡衍明 Q＆A 9】 網友希...   \n",
       "2      <h1 class=\"article-title\">韓國瑜五點聲明 吳敦義回應了</h1>   \n",
       "3  <h1 class=\"article-title\">後悔投韓國瑜！李明賢直言那些人心態是…....   \n",
       "4  <h1 class=\"article-title\">震撼！PTT大砍網軍帳號  上千挺英戰士...   \n",
       "\n",
       "                                                 url  \n",
       "0  https://www.chinatimes.com/realtimenews/201908...  \n",
       "1  https://www.chinatimes.com/realtimenews/201909...  \n",
       "2  https://www.chinatimes.com/realtimenews/201904...  \n",
       "3  https://www.chinatimes.com/realtimenews/201901...  \n",
       "4  https://www.chinatimes.com/realtimenews/201911...  "
      ]
     },
     "execution_count": 6,
     "metadata": {},
     "output_type": "execute_result"
    }
   ],
   "source": [
    "x.head()"
   ]
  },
  {
   "cell_type": "code",
   "execution_count": null,
   "metadata": {},
   "outputs": [],
   "source": []
  }
 ],
 "metadata": {
  "kernelspec": {
   "display_name": "Python 3",
   "language": "python",
   "name": "python3"
  },
  "language_info": {
   "codemirror_mode": {
    "name": "ipython",
    "version": 3
   },
   "file_extension": ".py",
   "mimetype": "text/x-python",
   "name": "python",
   "nbconvert_exporter": "python",
   "pygments_lexer": "ipython3",
   "version": "3.7.5"
  }
 },
 "nbformat": 4,
 "nbformat_minor": 2
}
